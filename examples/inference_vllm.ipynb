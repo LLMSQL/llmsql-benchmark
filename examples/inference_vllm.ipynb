{
 "cells": [
  {
   "cell_type": "code",
   "execution_count": 1,
   "id": "5bca1de5",
   "metadata": {},
   "outputs": [
    {
     "name": "stdout",
     "output_type": "stream",
     "text": [
      "Requirement already satisfied: llmsql[vllm] in ./.venv/lib/python3.12/site-packages (0.1.9)\n",
      "Requirement already satisfied: accelerate>=0.26.0 in ./.venv/lib/python3.12/site-packages (from llmsql[vllm]) (1.10.1)\n",
      "Requirement already satisfied: torch>=1.8 in ./.venv/lib/python3.12/site-packages (from llmsql[vllm]) (2.8.0)\n",
      "Requirement already satisfied: transformers>=4.1 in ./.venv/lib/python3.12/site-packages (from llmsql[vllm]) (4.57.1)\n",
      "Requirement already satisfied: datasets in ./.venv/lib/python3.12/site-packages (from llmsql[vllm]) (4.2.0)\n",
      "Requirement already satisfied: tqdm in ./.venv/lib/python3.12/site-packages (from llmsql[vllm]) (4.67.1)\n",
      "Requirement already satisfied: numpy in ./.venv/lib/python3.12/site-packages (from llmsql[vllm]) (2.2.6)\n",
      "Requirement already satisfied: python-dotenv in ./.venv/lib/python3.12/site-packages (from llmsql[vllm]) (1.1.1)\n",
      "Requirement already satisfied: pyyaml in ./.venv/lib/python3.12/site-packages (from llmsql[vllm]) (6.0.3)\n",
      "Requirement already satisfied: rich in ./.venv/lib/python3.12/site-packages (from llmsql[vllm]) (14.2.0)\n",
      "Requirement already satisfied: vllm>=0.4.2 in ./.venv/lib/python3.12/site-packages (from llmsql[vllm]) (0.11.0)\n",
      "Requirement already satisfied: packaging>=20.0 in ./.venv/lib/python3.12/site-packages (from accelerate>=0.26.0->llmsql[vllm]) (25.0)\n",
      "Requirement already satisfied: psutil in ./.venv/lib/python3.12/site-packages (from accelerate>=0.26.0->llmsql[vllm]) (7.1.0)\n",
      "Requirement already satisfied: huggingface_hub>=0.21.0 in ./.venv/lib/python3.12/site-packages (from accelerate>=0.26.0->llmsql[vllm]) (0.35.3)\n",
      "Requirement already satisfied: safetensors>=0.4.3 in ./.venv/lib/python3.12/site-packages (from accelerate>=0.26.0->llmsql[vllm]) (0.6.2)\n",
      "Requirement already satisfied: filelock in ./.venv/lib/python3.12/site-packages (from torch>=1.8->llmsql[vllm]) (3.20.0)\n",
      "Requirement already satisfied: typing-extensions>=4.10.0 in ./.venv/lib/python3.12/site-packages (from torch>=1.8->llmsql[vllm]) (4.15.0)\n",
      "Requirement already satisfied: setuptools in ./.venv/lib/python3.12/site-packages (from torch>=1.8->llmsql[vllm]) (79.0.1)\n",
      "Requirement already satisfied: sympy>=1.13.3 in ./.venv/lib/python3.12/site-packages (from torch>=1.8->llmsql[vllm]) (1.14.0)\n",
      "Requirement already satisfied: networkx in ./.venv/lib/python3.12/site-packages (from torch>=1.8->llmsql[vllm]) (3.5)\n",
      "Requirement already satisfied: jinja2 in ./.venv/lib/python3.12/site-packages (from torch>=1.8->llmsql[vllm]) (3.1.6)\n",
      "Requirement already satisfied: fsspec in ./.venv/lib/python3.12/site-packages (from torch>=1.8->llmsql[vllm]) (2025.9.0)\n",
      "Requirement already satisfied: nvidia-cuda-nvrtc-cu12==12.8.93 in ./.venv/lib/python3.12/site-packages (from torch>=1.8->llmsql[vllm]) (12.8.93)\n",
      "Requirement already satisfied: nvidia-cuda-runtime-cu12==12.8.90 in ./.venv/lib/python3.12/site-packages (from torch>=1.8->llmsql[vllm]) (12.8.90)\n",
      "Requirement already satisfied: nvidia-cuda-cupti-cu12==12.8.90 in ./.venv/lib/python3.12/site-packages (from torch>=1.8->llmsql[vllm]) (12.8.90)\n",
      "Requirement already satisfied: nvidia-cudnn-cu12==9.10.2.21 in ./.venv/lib/python3.12/site-packages (from torch>=1.8->llmsql[vllm]) (9.10.2.21)\n",
      "Requirement already satisfied: nvidia-cublas-cu12==12.8.4.1 in ./.venv/lib/python3.12/site-packages (from torch>=1.8->llmsql[vllm]) (12.8.4.1)\n",
      "Requirement already satisfied: nvidia-cufft-cu12==11.3.3.83 in ./.venv/lib/python3.12/site-packages (from torch>=1.8->llmsql[vllm]) (11.3.3.83)\n",
      "Requirement already satisfied: nvidia-curand-cu12==10.3.9.90 in ./.venv/lib/python3.12/site-packages (from torch>=1.8->llmsql[vllm]) (10.3.9.90)\n",
      "Requirement already satisfied: nvidia-cusolver-cu12==11.7.3.90 in ./.venv/lib/python3.12/site-packages (from torch>=1.8->llmsql[vllm]) (11.7.3.90)\n",
      "Requirement already satisfied: nvidia-cusparse-cu12==12.5.8.93 in ./.venv/lib/python3.12/site-packages (from torch>=1.8->llmsql[vllm]) (12.5.8.93)\n",
      "Requirement already satisfied: nvidia-cusparselt-cu12==0.7.1 in ./.venv/lib/python3.12/site-packages (from torch>=1.8->llmsql[vllm]) (0.7.1)\n",
      "Requirement already satisfied: nvidia-nccl-cu12==2.27.3 in ./.venv/lib/python3.12/site-packages (from torch>=1.8->llmsql[vllm]) (2.27.3)\n",
      "Requirement already satisfied: nvidia-nvtx-cu12==12.8.90 in ./.venv/lib/python3.12/site-packages (from torch>=1.8->llmsql[vllm]) (12.8.90)\n",
      "Requirement already satisfied: nvidia-nvjitlink-cu12==12.8.93 in ./.venv/lib/python3.12/site-packages (from torch>=1.8->llmsql[vllm]) (12.8.93)\n",
      "Requirement already satisfied: nvidia-cufile-cu12==1.13.1.3 in ./.venv/lib/python3.12/site-packages (from torch>=1.8->llmsql[vllm]) (1.13.1.3)\n",
      "Requirement already satisfied: triton==3.4.0 in ./.venv/lib/python3.12/site-packages (from torch>=1.8->llmsql[vllm]) (3.4.0)\n",
      "Requirement already satisfied: regex!=2019.12.17 in ./.venv/lib/python3.12/site-packages (from transformers>=4.1->llmsql[vllm]) (2025.9.18)\n",
      "Requirement already satisfied: requests in ./.venv/lib/python3.12/site-packages (from transformers>=4.1->llmsql[vllm]) (2.32.5)\n",
      "Requirement already satisfied: tokenizers<=0.23.0,>=0.22.0 in ./.venv/lib/python3.12/site-packages (from transformers>=4.1->llmsql[vllm]) (0.22.1)\n",
      "Requirement already satisfied: cachetools in ./.venv/lib/python3.12/site-packages (from vllm>=0.4.2->llmsql[vllm]) (6.2.1)\n",
      "Requirement already satisfied: sentencepiece in ./.venv/lib/python3.12/site-packages (from vllm>=0.4.2->llmsql[vllm]) (0.2.1)\n",
      "Requirement already satisfied: blake3 in ./.venv/lib/python3.12/site-packages (from vllm>=0.4.2->llmsql[vllm]) (1.0.8)\n",
      "Requirement already satisfied: py-cpuinfo in ./.venv/lib/python3.12/site-packages (from vllm>=0.4.2->llmsql[vllm]) (9.0.0)\n",
      "Requirement already satisfied: protobuf in ./.venv/lib/python3.12/site-packages (from vllm>=0.4.2->llmsql[vllm]) (6.33.0)\n",
      "Requirement already satisfied: fastapi>=0.115.0 in ./.venv/lib/python3.12/site-packages (from fastapi[standard]>=0.115.0->vllm>=0.4.2->llmsql[vllm]) (0.119.0)\n",
      "Requirement already satisfied: aiohttp in ./.venv/lib/python3.12/site-packages (from vllm>=0.4.2->llmsql[vllm]) (3.13.0)\n",
      "Requirement already satisfied: openai>=1.99.1 in ./.venv/lib/python3.12/site-packages (from vllm>=0.4.2->llmsql[vllm]) (2.4.0)\n",
      "Requirement already satisfied: pydantic>=2.11.7 in ./.venv/lib/python3.12/site-packages (from vllm>=0.4.2->llmsql[vllm]) (2.12.2)\n",
      "Requirement already satisfied: prometheus_client>=0.18.0 in ./.venv/lib/python3.12/site-packages (from vllm>=0.4.2->llmsql[vllm]) (0.23.1)\n",
      "Requirement already satisfied: pillow in ./.venv/lib/python3.12/site-packages (from vllm>=0.4.2->llmsql[vllm]) (12.0.0)\n",
      "Requirement already satisfied: prometheus-fastapi-instrumentator>=7.0.0 in ./.venv/lib/python3.12/site-packages (from vllm>=0.4.2->llmsql[vllm]) (7.1.0)\n",
      "Requirement already satisfied: tiktoken>=0.6.0 in ./.venv/lib/python3.12/site-packages (from vllm>=0.4.2->llmsql[vllm]) (0.12.0)\n",
      "Requirement already satisfied: lm-format-enforcer==0.11.3 in ./.venv/lib/python3.12/site-packages (from vllm>=0.4.2->llmsql[vllm]) (0.11.3)\n",
      "Requirement already satisfied: llguidance<0.8.0,>=0.7.11 in ./.venv/lib/python3.12/site-packages (from vllm>=0.4.2->llmsql[vllm]) (0.7.30)\n",
      "Requirement already satisfied: outlines_core==0.2.11 in ./.venv/lib/python3.12/site-packages (from vllm>=0.4.2->llmsql[vllm]) (0.2.11)\n",
      "Requirement already satisfied: diskcache==5.6.3 in ./.venv/lib/python3.12/site-packages (from vllm>=0.4.2->llmsql[vllm]) (5.6.3)\n",
      "Requirement already satisfied: lark==1.2.2 in ./.venv/lib/python3.12/site-packages (from vllm>=0.4.2->llmsql[vllm]) (1.2.2)\n",
      "Requirement already satisfied: xgrammar==0.1.25 in ./.venv/lib/python3.12/site-packages (from vllm>=0.4.2->llmsql[vllm]) (0.1.25)\n",
      "Requirement already satisfied: partial-json-parser in ./.venv/lib/python3.12/site-packages (from vllm>=0.4.2->llmsql[vllm]) (0.2.1.1.post6)\n",
      "Requirement already satisfied: pyzmq>=25.0.0 in ./.venv/lib/python3.12/site-packages (from vllm>=0.4.2->llmsql[vllm]) (27.1.0)\n",
      "Requirement already satisfied: msgspec in ./.venv/lib/python3.12/site-packages (from vllm>=0.4.2->llmsql[vllm]) (0.19.0)\n",
      "Requirement already satisfied: gguf>=0.13.0 in ./.venv/lib/python3.12/site-packages (from vllm>=0.4.2->llmsql[vllm]) (0.17.1)\n",
      "Requirement already satisfied: mistral_common>=1.8.2 in ./.venv/lib/python3.12/site-packages (from mistral_common[audio,image]>=1.8.2->vllm>=0.4.2->llmsql[vllm]) (1.8.5)\n",
      "Requirement already satisfied: opencv-python-headless>=4.11.0 in ./.venv/lib/python3.12/site-packages (from vllm>=0.4.2->llmsql[vllm]) (4.12.0.88)\n",
      "Requirement already satisfied: six>=1.16.0 in ./.venv/lib/python3.12/site-packages (from vllm>=0.4.2->llmsql[vllm]) (1.17.0)\n",
      "Requirement already satisfied: einops in ./.venv/lib/python3.12/site-packages (from vllm>=0.4.2->llmsql[vllm]) (0.8.1)\n",
      "Requirement already satisfied: compressed-tensors==0.11.0 in ./.venv/lib/python3.12/site-packages (from vllm>=0.4.2->llmsql[vllm]) (0.11.0)\n",
      "Requirement already satisfied: depyf==0.19.0 in ./.venv/lib/python3.12/site-packages (from vllm>=0.4.2->llmsql[vllm]) (0.19.0)\n",
      "Requirement already satisfied: cloudpickle in ./.venv/lib/python3.12/site-packages (from vllm>=0.4.2->llmsql[vllm]) (3.1.1)\n",
      "Requirement already satisfied: watchfiles in ./.venv/lib/python3.12/site-packages (from vllm>=0.4.2->llmsql[vllm]) (1.1.1)\n",
      "Requirement already satisfied: python-json-logger in ./.venv/lib/python3.12/site-packages (from vllm>=0.4.2->llmsql[vllm]) (4.0.0)\n",
      "Requirement already satisfied: scipy in ./.venv/lib/python3.12/site-packages (from vllm>=0.4.2->llmsql[vllm]) (1.16.2)\n",
      "Requirement already satisfied: ninja in ./.venv/lib/python3.12/site-packages (from vllm>=0.4.2->llmsql[vllm]) (1.13.0)\n",
      "Requirement already satisfied: pybase64 in ./.venv/lib/python3.12/site-packages (from vllm>=0.4.2->llmsql[vllm]) (1.4.2)\n",
      "Requirement already satisfied: cbor2 in ./.venv/lib/python3.12/site-packages (from vllm>=0.4.2->llmsql[vllm]) (5.7.0)\n",
      "Requirement already satisfied: setproctitle in ./.venv/lib/python3.12/site-packages (from vllm>=0.4.2->llmsql[vllm]) (1.3.7)\n",
      "Requirement already satisfied: openai-harmony>=0.0.3 in ./.venv/lib/python3.12/site-packages (from vllm>=0.4.2->llmsql[vllm]) (0.0.4)\n",
      "Requirement already satisfied: numba==0.61.2 in ./.venv/lib/python3.12/site-packages (from vllm>=0.4.2->llmsql[vllm]) (0.61.2)\n",
      "Requirement already satisfied: ray>=2.48.0 in ./.venv/lib/python3.12/site-packages (from ray[cgraph]>=2.48.0->vllm>=0.4.2->llmsql[vllm]) (2.50.0)\n",
      "Requirement already satisfied: torchaudio==2.8.0 in ./.venv/lib/python3.12/site-packages (from vllm>=0.4.2->llmsql[vllm]) (2.8.0)\n",
      "Requirement already satisfied: torchvision==0.23.0 in ./.venv/lib/python3.12/site-packages (from vllm>=0.4.2->llmsql[vllm]) (0.23.0)\n",
      "Requirement already satisfied: xformers==0.0.32.post1 in ./.venv/lib/python3.12/site-packages (from vllm>=0.4.2->llmsql[vllm]) (0.0.32.post1)\n",
      "Requirement already satisfied: frozendict in ./.venv/lib/python3.12/site-packages (from compressed-tensors==0.11.0->vllm>=0.4.2->llmsql[vllm]) (2.4.6)\n",
      "Requirement already satisfied: astor in ./.venv/lib/python3.12/site-packages (from depyf==0.19.0->vllm>=0.4.2->llmsql[vllm]) (0.8.1)\n",
      "Requirement already satisfied: dill in ./.venv/lib/python3.12/site-packages (from depyf==0.19.0->vllm>=0.4.2->llmsql[vllm]) (0.4.0)\n",
      "Requirement already satisfied: interegular>=0.3.2 in ./.venv/lib/python3.12/site-packages (from lm-format-enforcer==0.11.3->vllm>=0.4.2->llmsql[vllm]) (0.3.3)\n",
      "Requirement already satisfied: llvmlite<0.45,>=0.44.0dev0 in ./.venv/lib/python3.12/site-packages (from numba==0.61.2->vllm>=0.4.2->llmsql[vllm]) (0.44.0)\n",
      "Requirement already satisfied: pyarrow>=21.0.0 in ./.venv/lib/python3.12/site-packages (from datasets->llmsql[vllm]) (21.0.0)\n",
      "Requirement already satisfied: pandas in ./.venv/lib/python3.12/site-packages (from datasets->llmsql[vllm]) (2.3.3)\n",
      "Requirement already satisfied: httpx<1.0.0 in ./.venv/lib/python3.12/site-packages (from datasets->llmsql[vllm]) (0.28.1)\n",
      "Requirement already satisfied: xxhash in ./.venv/lib/python3.12/site-packages (from datasets->llmsql[vllm]) (3.6.0)\n",
      "Requirement already satisfied: multiprocess<0.70.17 in ./.venv/lib/python3.12/site-packages (from datasets->llmsql[vllm]) (0.70.16)\n",
      "Requirement already satisfied: markdown-it-py>=2.2.0 in ./.venv/lib/python3.12/site-packages (from rich->llmsql[vllm]) (4.0.0)\n",
      "Requirement already satisfied: pygments<3.0.0,>=2.13.0 in ./.venv/lib/python3.12/site-packages (from rich->llmsql[vllm]) (2.19.2)\n",
      "Requirement already satisfied: starlette<0.49.0,>=0.40.0 in ./.venv/lib/python3.12/site-packages (from fastapi>=0.115.0->fastapi[standard]>=0.115.0->vllm>=0.4.2->llmsql[vllm]) (0.48.0)\n",
      "Requirement already satisfied: fastapi-cli>=0.0.8 in ./.venv/lib/python3.12/site-packages (from fastapi-cli[standard]>=0.0.8; extra == \"standard\"->fastapi[standard]>=0.115.0->vllm>=0.4.2->llmsql[vllm]) (0.0.13)\n",
      "Requirement already satisfied: python-multipart>=0.0.18 in ./.venv/lib/python3.12/site-packages (from fastapi[standard]>=0.115.0->vllm>=0.4.2->llmsql[vllm]) (0.0.20)\n",
      "Requirement already satisfied: email-validator>=2.0.0 in ./.venv/lib/python3.12/site-packages (from fastapi[standard]>=0.115.0->vllm>=0.4.2->llmsql[vllm]) (2.3.0)\n",
      "Requirement already satisfied: uvicorn>=0.12.0 in ./.venv/lib/python3.12/site-packages (from uvicorn[standard]>=0.12.0; extra == \"standard\"->fastapi[standard]>=0.115.0->vllm>=0.4.2->llmsql[vllm]) (0.37.0)\n",
      "Requirement already satisfied: aiohappyeyeballs>=2.5.0 in ./.venv/lib/python3.12/site-packages (from aiohttp->vllm>=0.4.2->llmsql[vllm]) (2.6.1)\n",
      "Requirement already satisfied: aiosignal>=1.4.0 in ./.venv/lib/python3.12/site-packages (from aiohttp->vllm>=0.4.2->llmsql[vllm]) (1.4.0)\n",
      "Requirement already satisfied: attrs>=17.3.0 in ./.venv/lib/python3.12/site-packages (from aiohttp->vllm>=0.4.2->llmsql[vllm]) (25.4.0)\n",
      "Requirement already satisfied: frozenlist>=1.1.1 in ./.venv/lib/python3.12/site-packages (from aiohttp->vllm>=0.4.2->llmsql[vllm]) (1.8.0)\n",
      "Requirement already satisfied: multidict<7.0,>=4.5 in ./.venv/lib/python3.12/site-packages (from aiohttp->vllm>=0.4.2->llmsql[vllm]) (6.7.0)\n",
      "Requirement already satisfied: propcache>=0.2.0 in ./.venv/lib/python3.12/site-packages (from aiohttp->vllm>=0.4.2->llmsql[vllm]) (0.4.1)\n",
      "Requirement already satisfied: yarl<2.0,>=1.17.0 in ./.venv/lib/python3.12/site-packages (from aiohttp->vllm>=0.4.2->llmsql[vllm]) (1.22.0)\n",
      "Requirement already satisfied: anyio in ./.venv/lib/python3.12/site-packages (from httpx<1.0.0->datasets->llmsql[vllm]) (4.11.0)\n",
      "Requirement already satisfied: certifi in ./.venv/lib/python3.12/site-packages (from httpx<1.0.0->datasets->llmsql[vllm]) (2025.10.5)\n",
      "Requirement already satisfied: httpcore==1.* in ./.venv/lib/python3.12/site-packages (from httpx<1.0.0->datasets->llmsql[vllm]) (1.0.9)\n",
      "Requirement already satisfied: idna in ./.venv/lib/python3.12/site-packages (from httpx<1.0.0->datasets->llmsql[vllm]) (3.11)\n",
      "Requirement already satisfied: h11>=0.16 in ./.venv/lib/python3.12/site-packages (from httpcore==1.*->httpx<1.0.0->datasets->llmsql[vllm]) (0.16.0)\n",
      "Requirement already satisfied: hf-xet<2.0.0,>=1.1.3 in ./.venv/lib/python3.12/site-packages (from huggingface_hub>=0.21.0->accelerate>=0.26.0->llmsql[vllm]) (1.1.10)\n",
      "Requirement already satisfied: MarkupSafe>=2.0 in ./.venv/lib/python3.12/site-packages (from jinja2->torch>=1.8->llmsql[vllm]) (3.0.3)\n",
      "Requirement already satisfied: mdurl~=0.1 in ./.venv/lib/python3.12/site-packages (from markdown-it-py>=2.2.0->rich->llmsql[vllm]) (0.1.2)\n",
      "Requirement already satisfied: jsonschema>=4.21.1 in ./.venv/lib/python3.12/site-packages (from mistral_common>=1.8.2->mistral_common[audio,image]>=1.8.2->vllm>=0.4.2->llmsql[vllm]) (4.25.1)\n",
      "Requirement already satisfied: pydantic-extra-types>=2.10.5 in ./.venv/lib/python3.12/site-packages (from pydantic-extra-types[pycountry]>=2.10.5->mistral_common>=1.8.2->mistral_common[audio,image]>=1.8.2->vllm>=0.4.2->llmsql[vllm]) (2.10.6)\n",
      "Requirement already satisfied: distro<2,>=1.7.0 in ./.venv/lib/python3.12/site-packages (from openai>=1.99.1->vllm>=0.4.2->llmsql[vllm]) (1.9.0)\n",
      "Requirement already satisfied: jiter<1,>=0.10.0 in ./.venv/lib/python3.12/site-packages (from openai>=1.99.1->vllm>=0.4.2->llmsql[vllm]) (0.11.0)\n",
      "Requirement already satisfied: sniffio in ./.venv/lib/python3.12/site-packages (from openai>=1.99.1->vllm>=0.4.2->llmsql[vllm]) (1.3.1)\n",
      "Requirement already satisfied: annotated-types>=0.6.0 in ./.venv/lib/python3.12/site-packages (from pydantic>=2.11.7->vllm>=0.4.2->llmsql[vllm]) (0.7.0)\n",
      "Requirement already satisfied: pydantic-core==2.41.4 in ./.venv/lib/python3.12/site-packages (from pydantic>=2.11.7->vllm>=0.4.2->llmsql[vllm]) (2.41.4)\n",
      "Requirement already satisfied: typing-inspection>=0.4.2 in ./.venv/lib/python3.12/site-packages (from pydantic>=2.11.7->vllm>=0.4.2->llmsql[vllm]) (0.4.2)\n",
      "Requirement already satisfied: click!=8.3.0,>=7.0 in ./.venv/lib/python3.12/site-packages (from ray>=2.48.0->ray[cgraph]>=2.48.0->vllm>=0.4.2->llmsql[vllm]) (8.2.1)\n",
      "Requirement already satisfied: msgpack<2.0.0,>=1.0.0 in ./.venv/lib/python3.12/site-packages (from ray>=2.48.0->ray[cgraph]>=2.48.0->vllm>=0.4.2->llmsql[vllm]) (1.1.2)\n",
      "Requirement already satisfied: cupy-cuda12x in ./.venv/lib/python3.12/site-packages (from ray[cgraph]>=2.48.0->vllm>=0.4.2->llmsql[vllm]) (13.6.0)\n",
      "Requirement already satisfied: charset_normalizer<4,>=2 in ./.venv/lib/python3.12/site-packages (from requests->transformers>=4.1->llmsql[vllm]) (3.4.4)\n",
      "Requirement already satisfied: urllib3<3,>=1.21.1 in ./.venv/lib/python3.12/site-packages (from requests->transformers>=4.1->llmsql[vllm]) (2.5.0)\n",
      "Requirement already satisfied: mpmath<1.4,>=1.1.0 in ./.venv/lib/python3.12/site-packages (from sympy>=1.13.3->torch>=1.8->llmsql[vllm]) (1.3.0)\n",
      "Requirement already satisfied: python-dateutil>=2.8.2 in ./.venv/lib/python3.12/site-packages (from pandas->datasets->llmsql[vllm]) (2.9.0.post0)\n",
      "Requirement already satisfied: pytz>=2020.1 in ./.venv/lib/python3.12/site-packages (from pandas->datasets->llmsql[vllm]) (2025.2)\n",
      "Requirement already satisfied: tzdata>=2022.7 in ./.venv/lib/python3.12/site-packages (from pandas->datasets->llmsql[vllm]) (2025.2)\n",
      "Requirement already satisfied: dnspython>=2.0.0 in ./.venv/lib/python3.12/site-packages (from email-validator>=2.0.0->fastapi[standard]>=0.115.0->vllm>=0.4.2->llmsql[vllm]) (2.8.0)\n",
      "Requirement already satisfied: typer>=0.15.1 in ./.venv/lib/python3.12/site-packages (from fastapi-cli>=0.0.8->fastapi-cli[standard]>=0.0.8; extra == \"standard\"->fastapi[standard]>=0.115.0->vllm>=0.4.2->llmsql[vllm]) (0.19.2)\n",
      "Requirement already satisfied: rich-toolkit>=0.14.8 in ./.venv/lib/python3.12/site-packages (from fastapi-cli>=0.0.8->fastapi-cli[standard]>=0.0.8; extra == \"standard\"->fastapi[standard]>=0.115.0->vllm>=0.4.2->llmsql[vllm]) (0.15.1)\n",
      "Requirement already satisfied: fastapi-cloud-cli>=0.1.1 in ./.venv/lib/python3.12/site-packages (from fastapi-cli[standard]>=0.0.8; extra == \"standard\"->fastapi[standard]>=0.115.0->vllm>=0.4.2->llmsql[vllm]) (0.3.1)\n",
      "Requirement already satisfied: jsonschema-specifications>=2023.03.6 in ./.venv/lib/python3.12/site-packages (from jsonschema>=4.21.1->mistral_common>=1.8.2->mistral_common[audio,image]>=1.8.2->vllm>=0.4.2->llmsql[vllm]) (2025.9.1)\n",
      "Requirement already satisfied: referencing>=0.28.4 in ./.venv/lib/python3.12/site-packages (from jsonschema>=4.21.1->mistral_common>=1.8.2->mistral_common[audio,image]>=1.8.2->vllm>=0.4.2->llmsql[vllm]) (0.37.0)\n",
      "Requirement already satisfied: rpds-py>=0.7.1 in ./.venv/lib/python3.12/site-packages (from jsonschema>=4.21.1->mistral_common>=1.8.2->mistral_common[audio,image]>=1.8.2->vllm>=0.4.2->llmsql[vllm]) (0.27.1)\n",
      "Requirement already satisfied: pycountry>=23 in ./.venv/lib/python3.12/site-packages (from pydantic-extra-types[pycountry]>=2.10.5->mistral_common>=1.8.2->mistral_common[audio,image]>=1.8.2->vllm>=0.4.2->llmsql[vllm]) (24.6.1)\n",
      "Requirement already satisfied: httptools>=0.6.3 in ./.venv/lib/python3.12/site-packages (from uvicorn[standard]>=0.12.0; extra == \"standard\"->fastapi[standard]>=0.115.0->vllm>=0.4.2->llmsql[vllm]) (0.7.1)\n",
      "Requirement already satisfied: uvloop>=0.15.1 in ./.venv/lib/python3.12/site-packages (from uvicorn[standard]>=0.12.0; extra == \"standard\"->fastapi[standard]>=0.115.0->vllm>=0.4.2->llmsql[vllm]) (0.21.0)\n",
      "Requirement already satisfied: websockets>=10.4 in ./.venv/lib/python3.12/site-packages (from uvicorn[standard]>=0.12.0; extra == \"standard\"->fastapi[standard]>=0.115.0->vllm>=0.4.2->llmsql[vllm]) (15.0.1)\n",
      "Requirement already satisfied: fastrlock>=0.5 in ./.venv/lib/python3.12/site-packages (from cupy-cuda12x->ray[cgraph]>=2.48.0->vllm>=0.4.2->llmsql[vllm]) (0.8.3)\n",
      "Requirement already satisfied: soundfile>=0.12.1 in ./.venv/lib/python3.12/site-packages (from mistral_common>=1.8.2->mistral_common[audio,image]>=1.8.2->vllm>=0.4.2->llmsql[vllm]) (0.13.1)\n",
      "Requirement already satisfied: soxr>=0.5.0 in ./.venv/lib/python3.12/site-packages (from mistral_common>=1.8.2->mistral_common[audio,image]>=1.8.2->vllm>=0.4.2->llmsql[vllm]) (1.0.0)\n",
      "Requirement already satisfied: rignore>=0.5.1 in ./.venv/lib/python3.12/site-packages (from fastapi-cloud-cli>=0.1.1->fastapi-cli[standard]>=0.0.8; extra == \"standard\"->fastapi[standard]>=0.115.0->vllm>=0.4.2->llmsql[vllm]) (0.7.1)\n",
      "Requirement already satisfied: sentry-sdk>=2.20.0 in ./.venv/lib/python3.12/site-packages (from fastapi-cloud-cli>=0.1.1->fastapi-cli[standard]>=0.0.8; extra == \"standard\"->fastapi[standard]>=0.115.0->vllm>=0.4.2->llmsql[vllm]) (2.42.0)\n",
      "Requirement already satisfied: cffi>=1.0 in ./.venv/lib/python3.12/site-packages (from soundfile>=0.12.1->mistral_common>=1.8.2->mistral_common[audio,image]>=1.8.2->vllm>=0.4.2->llmsql[vllm]) (2.0.0)\n",
      "Requirement already satisfied: shellingham>=1.3.0 in ./.venv/lib/python3.12/site-packages (from typer>=0.15.1->fastapi-cli>=0.0.8->fastapi-cli[standard]>=0.0.8; extra == \"standard\"->fastapi[standard]>=0.115.0->vllm>=0.4.2->llmsql[vllm]) (1.5.4)\n",
      "Requirement already satisfied: pycparser in ./.venv/lib/python3.12/site-packages (from cffi>=1.0->soundfile>=0.12.1->mistral_common>=1.8.2->mistral_common[audio,image]>=1.8.2->vllm>=0.4.2->llmsql[vllm]) (2.23)\n",
      "\n",
      "\u001b[1m[\u001b[0m\u001b[34;49mnotice\u001b[0m\u001b[1;39;49m]\u001b[0m\u001b[39;49m A new release of pip is available: \u001b[0m\u001b[31;49m25.0.1\u001b[0m\u001b[39;49m -> \u001b[0m\u001b[32;49m25.2\u001b[0m\n",
      "\u001b[1m[\u001b[0m\u001b[34;49mnotice\u001b[0m\u001b[1;39;49m]\u001b[0m\u001b[39;49m To update, run: \u001b[0m\u001b[32;49mpip install --upgrade pip\u001b[0m\n"
     ]
    }
   ],
   "source": [
    "! pip install llmsql[vllm]"
   ]
  },
  {
   "cell_type": "code",
   "execution_count": 1,
   "id": "edc910ac",
   "metadata": {},
   "outputs": [
    {
     "name": "stderr",
     "output_type": "stream",
     "text": [
      "/workspace/.venv/lib/python3.12/site-packages/tqdm/auto.py:21: TqdmWarning: IProgress not found. Please update jupyter and ipywidgets. See https://ipywidgets.readthedocs.io/en/stable/user_install.html\n",
      "  from .autonotebook import tqdm as notebook_tqdm\n"
     ]
    },
    {
     "name": "stdout",
     "output_type": "stream",
     "text": [
      "INFO 10-16 18:14:56 [__init__.py:216] Automatically detected platform cuda.\n"
     ]
    },
    {
     "name": "stderr",
     "output_type": "stream",
     "text": [
      "2025-10-16 18:14:58,678 [INFO] llmsql-bench: Preparing questions and tables...\n",
      "2025-10-16 18:15:00,106 [INFO] llmsql-bench: Loading vLLM model 'Qwen/Qwen2.5-1.5B-Instruct' (tp=1)...\n"
     ]
    },
    {
     "name": "stdout",
     "output_type": "stream",
     "text": [
      "INFO 10-16 18:15:00 [utils.py:233] non-default args: {'tokenizer': 'Qwen/Qwen2.5-1.5B-Instruct', 'trust_remote_code': True, 'disable_log_stats': True, 'model': 'Qwen/Qwen2.5-1.5B-Instruct'}\n"
     ]
    },
    {
     "name": "stderr",
     "output_type": "stream",
     "text": [
      "The argument `trust_remote_code` is to be used with Auto classes. It has no effect here and is ignored.\n"
     ]
    },
    {
     "name": "stdout",
     "output_type": "stream",
     "text": [
      "INFO 10-16 18:15:00 [model.py:547] Resolved architecture: Qwen2ForCausalLM\n"
     ]
    },
    {
     "name": "stderr",
     "output_type": "stream",
     "text": [
      "`torch_dtype` is deprecated! Use `dtype` instead!\n"
     ]
    },
    {
     "name": "stdout",
     "output_type": "stream",
     "text": [
      "INFO 10-16 18:15:00 [model.py:1510] Using max model len 32768\n"
     ]
    },
    {
     "name": "stderr",
     "output_type": "stream",
     "text": [
      "2025-10-16 18:15:01,003\tINFO util.py:154 -- Missing packages: ['ipywidgets']. Run `pip install -U ipywidgets`, then restart the notebook server for rich notebook output.\n"
     ]
    },
    {
     "name": "stdout",
     "output_type": "stream",
     "text": [
      "INFO 10-16 18:15:01 [scheduler.py:205] Chunked prefill is enabled with max_num_batched_tokens=16384.\n",
      "\u001b[1;36m(EngineCore_DP0 pid=7609)\u001b[0;0m INFO 10-16 18:15:01 [core.py:644] Waiting for init message from front-end.\n",
      "\u001b[1;36m(EngineCore_DP0 pid=7609)\u001b[0;0m INFO 10-16 18:15:01 [core.py:77] Initializing a V1 LLM engine (v0.11.0) with config: model='Qwen/Qwen2.5-1.5B-Instruct', speculative_config=None, tokenizer='Qwen/Qwen2.5-1.5B-Instruct', skip_tokenizer_init=False, tokenizer_mode=auto, revision=None, tokenizer_revision=None, trust_remote_code=True, dtype=torch.bfloat16, max_seq_len=32768, download_dir=None, load_format=auto, tensor_parallel_size=1, pipeline_parallel_size=1, data_parallel_size=1, disable_custom_all_reduce=False, quantization=None, enforce_eager=False, kv_cache_dtype=auto, device_config=cuda, structured_outputs_config=StructuredOutputsConfig(backend='auto', disable_fallback=False, disable_any_whitespace=False, disable_additional_properties=False, reasoning_parser=''), observability_config=ObservabilityConfig(show_hidden_metrics_for_version=None, otlp_traces_endpoint=None, collect_detailed_traces=None), seed=0, served_model_name=Qwen/Qwen2.5-1.5B-Instruct, enable_prefix_caching=True, chunked_prefill_enabled=True, pooler_config=None, compilation_config={\"level\":3,\"debug_dump_path\":\"\",\"cache_dir\":\"\",\"backend\":\"\",\"custom_ops\":[],\"splitting_ops\":[\"vllm.unified_attention\",\"vllm.unified_attention_with_output\",\"vllm.mamba_mixer2\",\"vllm.mamba_mixer\",\"vllm.short_conv\",\"vllm.linear_attention\",\"vllm.plamo2_mamba_mixer\",\"vllm.gdn_attention\",\"vllm.sparse_attn_indexer\"],\"use_inductor\":true,\"compile_sizes\":[],\"inductor_compile_config\":{\"enable_auto_functionalized_v2\":false},\"inductor_passes\":{},\"cudagraph_mode\":[2,1],\"use_cudagraph\":true,\"cudagraph_num_of_warmups\":1,\"cudagraph_capture_sizes\":[512,504,496,488,480,472,464,456,448,440,432,424,416,408,400,392,384,376,368,360,352,344,336,328,320,312,304,296,288,280,272,264,256,248,240,232,224,216,208,200,192,184,176,168,160,152,144,136,128,120,112,104,96,88,80,72,64,56,48,40,32,24,16,8,4,2,1],\"cudagraph_copy_inputs\":false,\"full_cuda_graph\":false,\"use_inductor_graph_partition\":false,\"pass_config\":{},\"max_capture_size\":512,\"local_cache_dir\":null}\n",
      "\u001b[1;36m(EngineCore_DP0 pid=7609)\u001b[0;0m INFO 10-16 18:15:03 [parallel_state.py:1208] rank 0 in world size 1 is assigned as DP rank 0, PP rank 0, TP rank 0, EP rank 0\n",
      "[Gloo] Rank 0 is connected to 0 peer ranks. Expected number of connected peer ranks is : 0\n",
      "[Gloo] Rank 0 is connected to 0 peer ranks. Expected number of connected peer ranks is : 0\n",
      "[Gloo] Rank 0 is connected to 0 peer ranks. Expected number of connected peer ranks is : 0\n",
      "[Gloo] Rank 0 is connected to 0 peer ranks. Expected number of connected peer ranks is : 0\n",
      "[Gloo] Rank 0 is connected to 0 peer ranks. Expected number of connected peer ranks is : 0\n",
      "[Gloo] Rank 0 is connected to 0 peer ranks. Expected number of connected peer ranks is : 0\n",
      "\u001b[1;36m(EngineCore_DP0 pid=7609)\u001b[0;0m WARNING 10-16 18:15:04 [topk_topp_sampler.py:66] FlashInfer is not available. Falling back to the PyTorch-native implementation of top-p & top-k sampling. For the best performance, please install FlashInfer.\n",
      "\u001b[1;36m(EngineCore_DP0 pid=7609)\u001b[0;0m INFO 10-16 18:15:04 [gpu_model_runner.py:2602] Starting to load model Qwen/Qwen2.5-1.5B-Instruct...\n",
      "\u001b[1;36m(EngineCore_DP0 pid=7609)\u001b[0;0m INFO 10-16 18:15:04 [gpu_model_runner.py:2634] Loading model from scratch...\n",
      "\u001b[1;36m(EngineCore_DP0 pid=7609)\u001b[0;0m INFO 10-16 18:15:04 [cuda.py:366] Using Flash Attention backend on V1 engine.\n",
      "\u001b[1;36m(EngineCore_DP0 pid=7609)\u001b[0;0m INFO 10-16 18:15:04 [weight_utils.py:392] Using model weights format ['*.safetensors']\n",
      "\u001b[1;36m(EngineCore_DP0 pid=7609)\u001b[0;0m INFO 10-16 18:15:05 [weight_utils.py:450] No model.safetensors.index.json found in remote.\n"
     ]
    },
    {
     "name": "stderr",
     "output_type": "stream",
     "text": [
      "Loading safetensors checkpoint shards:   0% Completed | 0/1 [00:00<?, ?it/s]\n",
      "Loading safetensors checkpoint shards: 100% Completed | 1/1 [00:00<00:00,  2.74it/s]\n",
      "Loading safetensors checkpoint shards: 100% Completed | 1/1 [00:00<00:00,  2.73it/s]\n",
      "\u001b[1;36m(EngineCore_DP0 pid=7609)\u001b[0;0m \n"
     ]
    },
    {
     "name": "stdout",
     "output_type": "stream",
     "text": [
      "\u001b[1;36m(EngineCore_DP0 pid=7609)\u001b[0;0m INFO 10-16 18:15:05 [default_loader.py:267] Loading weights took 0.50 seconds\n",
      "\u001b[1;36m(EngineCore_DP0 pid=7609)\u001b[0;0m INFO 10-16 18:15:06 [gpu_model_runner.py:2653] Model loading took 2.8871 GiB and 1.123245 seconds\n",
      "\u001b[1;36m(EngineCore_DP0 pid=7609)\u001b[0;0m INFO 10-16 18:15:10 [backends.py:548] Using cache directory: /root/.cache/vllm/torch_compile_cache/94eb05d0e3/rank_0_0/backbone for vLLM's torch.compile\n",
      "\u001b[1;36m(EngineCore_DP0 pid=7609)\u001b[0;0m INFO 10-16 18:15:10 [backends.py:559] Dynamo bytecode transform time: 3.48 s\n",
      "\u001b[1;36m(EngineCore_DP0 pid=7609)\u001b[0;0m INFO 10-16 18:15:11 [backends.py:164] Directly load the compiled graph(s) for dynamic shape from the cache, took 1.048 s\n",
      "\u001b[1;36m(EngineCore_DP0 pid=7609)\u001b[0;0m INFO 10-16 18:15:11 [monitor.py:34] torch.compile takes 3.48 s in total\n",
      "\u001b[1;36m(EngineCore_DP0 pid=7609)\u001b[0;0m INFO 10-16 18:15:12 [gpu_worker.py:298] Available KV cache memory: 62.67 GiB\n",
      "\u001b[1;36m(EngineCore_DP0 pid=7609)\u001b[0;0m INFO 10-16 18:15:13 [kv_cache_utils.py:1087] GPU KV cache size: 2,347,008 tokens\n",
      "\u001b[1;36m(EngineCore_DP0 pid=7609)\u001b[0;0m INFO 10-16 18:15:13 [kv_cache_utils.py:1091] Maximum concurrency for 32,768 tokens per request: 71.62x\n"
     ]
    },
    {
     "name": "stderr",
     "output_type": "stream",
     "text": [
      "Capturing CUDA graphs (mixed prefill-decode, PIECEWISE): 100%|██████████| 67/67 [00:02<00:00, 33.29it/s]\n",
      "Capturing CUDA graphs (decode, FULL): 100%|██████████| 67/67 [00:01<00:00, 51.78it/s]\n"
     ]
    },
    {
     "name": "stdout",
     "output_type": "stream",
     "text": [
      "\u001b[1;36m(EngineCore_DP0 pid=7609)\u001b[0;0m INFO 10-16 18:15:17 [gpu_model_runner.py:3480] Graph capturing finished in 4 secs, took 0.92 GiB\n",
      "\u001b[1;36m(EngineCore_DP0 pid=7609)\u001b[0;0m INFO 10-16 18:15:17 [core.py:210] init engine (profile, create kv cache, warmup model) took 11.17 seconds\n",
      "INFO 10-16 18:15:18 [llm.py:306] Supported_tasks: ['generate']\n"
     ]
    },
    {
     "name": "stderr",
     "output_type": "stream",
     "text": [
      "2025-10-16 18:15:18,423 [INFO] llmsql-bench: Output will be written to test_results.jsonl\n",
      "Adding requests: 100%|██████████| 20000/20000 [00:25<00:00, 785.23it/s]\n",
      "Processed prompts: 100%|██████████| 20000/20000 [00:06<00:00, 3063.00it/s, est. speed input: 2318735.08 toks/s, output: 85008.43 toks/s]\n",
      "2025-10-16 18:15:50,600 [INFO] llmsql-bench: Saved batch 1: 20000/80330\n",
      "Adding requests: 100%|██████████| 20000/20000 [00:27<00:00, 740.43it/s]\n",
      "Processed prompts: 100%|██████████| 20000/20000 [00:05<00:00, 3693.69it/s, est. speed input: 2825841.49 toks/s, output: 98642.01 toks/s]\n",
      "2025-10-16 18:16:23,321 [INFO] llmsql-bench: Saved batch 2: 40000/80330\n",
      "Adding requests: 100%|██████████| 20000/20000 [00:26<00:00, 752.37it/s]\n",
      "Processed prompts: 100%|██████████| 20000/20000 [00:05<00:00, 3605.94it/s, est. speed input: 2711927.60 toks/s, output: 101898.00 toks/s]\n",
      "2025-10-16 18:16:55,701 [INFO] llmsql-bench: Saved batch 3: 60000/80330\n",
      "Adding requests: 100%|██████████| 20000/20000 [00:26<00:00, 764.11it/s]\n",
      "Processed prompts: 100%|██████████| 20000/20000 [00:05<00:00, 3395.75it/s, est. speed input: 2551623.68 toks/s, output: 96250.91 toks/s]\n",
      "2025-10-16 18:17:28,020 [INFO] llmsql-bench: Saved batch 4: 80000/80330\n",
      "Adding requests: 100%|██████████| 330/330 [00:00<00:00, 728.34it/s]\n",
      "Processed prompts: 100%|██████████| 330/330 [00:00<00:00, 1097.03it/s, est. speed input: 818672.14 toks/s, output: 30009.61 toks/s]\n",
      "2025-10-16 18:17:28,884 [INFO] llmsql-bench: Saved batch 5: 80330/80330\n",
      "Generating: 100%|██████████| 5/5 [02:10<00:00, 26.09s/it]\n",
      "2025-10-16 18:17:28,886 [INFO] llmsql-bench: Generation completed. 80330 results saved to test_results.jsonl\n"
     ]
    }
   ],
   "source": [
    "from llmsql import inference_vllm\n",
    "results = inference_vllm(\n",
    "    \"Qwen/Qwen2.5-1.5B-Instruct\",\n",
    "    \"test_results.jsonl\",\n",
    "    do_sample=False,\n",
    "    batch_size=20000\n",
    ")"
   ]
  },
  {
   "cell_type": "code",
   "execution_count": null,
   "id": "62d57349",
   "metadata": {},
   "outputs": [
    {
     "data": {
      "text/html": [
       "<pre style=\"white-space:pre;overflow-x:auto;line-height:normal;font-family:Menlo,'DejaVu Sans Mono',consolas,'Courier New',monospace\">/workspace/.venv/lib/python3.12/site-packages/rich/live.py:256: UserWarning: install \"ipywidgets\" for Jupyter \n",
       "support\n",
       "  warnings.warn('install \"ipywidgets\" for Jupyter support')\n",
       "</pre>\n"
      ],
      "text/plain": [
       "/workspace/.venv/lib/python3.12/site-packages/rich/live.py:256: UserWarning: install \"ipywidgets\" for Jupyter \n",
       "support\n",
       "  warnings.warn('install \"ipywidgets\" for Jupyter support')\n"
      ]
     },
     "metadata": {},
     "output_type": "display_data"
    },
    {
     "data": {
      "text/html": [
       "<pre style=\"white-space:pre;overflow-x:auto;line-height:normal;font-family:Menlo,'DejaVu Sans Mono',consolas,'Courier New',monospace\"><span style=\"font-style: italic\">                                              </span><span style=\"color: #800000; text-decoration-color: #800000; font-style: italic\">Mismatch for Question 2</span><span style=\"font-style: italic\">                                              </span>\n",
       "┏━━━━━━━━━━━━━━━━━━━━┳━━━━━━━━━━━━━━━━━━━━━━━━━━━━━━━━━━━━━━━━━━━━━━━━━━━━━━━━━━━━━━━━━━━━━━━━━━━━━━━━━━━━━━━━━━━━┓\n",
       "┃<span style=\"font-weight: bold\"> Field              </span>┃<span style=\"font-weight: bold\"> Value                                                                                      </span>┃\n",
       "┡━━━━━━━━━━━━━━━━━━━━╇━━━━━━━━━━━━━━━━━━━━━━━━━━━━━━━━━━━━━━━━━━━━━━━━━━━━━━━━━━━━━━━━━━━━━━━━━━━━━━━━━━━━━━━━━━━━┩\n",
       "│<span style=\"color: #008080; text-decoration-color: #008080; font-weight: bold\"> Question           </span>│ What clu was in toronto 1995-96                                                            │\n",
       "├────────────────────┼────────────────────────────────────────────────────────────────────────────────────────────┤\n",
       "│<span style=\"color: #008080; text-decoration-color: #008080; font-weight: bold\"> Model Output SQL   </span>│ SELECT \"Clu\" FROM \"Table\" WHERE \"Years in Toronto\" = \"1995-96\" AND \"School/Club Team\" =    │\n",
       "│<span style=\"color: #008080; text-decoration-color: #008080; font-weight: bold\">                    </span>│ \"Barton CC (KS)\";                                                                          │\n",
       "├────────────────────┼────────────────────────────────────────────────────────────────────────────────────────────┤\n",
       "│<span style=\"color: #008080; text-decoration-color: #008080; font-weight: bold\"> Gold SQL           </span>│ SELECT \"School/Club Team\" FROM \"1-10015132-16\" WHERE \"Years in Toronto\" = '1995-96';       │\n",
       "├────────────────────┼────────────────────────────────────────────────────────────────────────────────────────────┤\n",
       "│<span style=\"color: #008080; text-decoration-color: #008080; font-weight: bold\"> Prediction Results </span>│ []                                                                                         │\n",
       "├────────────────────┼────────────────────────────────────────────────────────────────────────────────────────────┤\n",
       "│<span style=\"color: #008080; text-decoration-color: #008080; font-weight: bold\"> Gold Results       </span>│ [('Arkansas',)]                                                                            │\n",
       "└────────────────────┴────────────────────────────────────────────────────────────────────────────────────────────┘\n",
       "</pre>\n"
      ],
      "text/plain": [
       "\u001b[3m                                              \u001b[0m\u001b[3;31mMismatch for Question 2\u001b[0m\u001b[3m                                              \u001b[0m\n",
       "┏━━━━━━━━━━━━━━━━━━━━┳━━━━━━━━━━━━━━━━━━━━━━━━━━━━━━━━━━━━━━━━━━━━━━━━━━━━━━━━━━━━━━━━━━━━━━━━━━━━━━━━━━━━━━━━━━━━┓\n",
       "┃\u001b[1m \u001b[0m\u001b[1mField             \u001b[0m\u001b[1m \u001b[0m┃\u001b[1m \u001b[0m\u001b[1mValue                                                                                     \u001b[0m\u001b[1m \u001b[0m┃\n",
       "┡━━━━━━━━━━━━━━━━━━━━╇━━━━━━━━━━━━━━━━━━━━━━━━━━━━━━━━━━━━━━━━━━━━━━━━━━━━━━━━━━━━━━━━━━━━━━━━━━━━━━━━━━━━━━━━━━━━┩\n",
       "│\u001b[1;36m \u001b[0m\u001b[1;36mQuestion          \u001b[0m\u001b[1;36m \u001b[0m│ What clu was in toronto 1995-96                                                            │\n",
       "├────────────────────┼────────────────────────────────────────────────────────────────────────────────────────────┤\n",
       "│\u001b[1;36m \u001b[0m\u001b[1;36mModel Output SQL  \u001b[0m\u001b[1;36m \u001b[0m│ SELECT \"Clu\" FROM \"Table\" WHERE \"Years in Toronto\" = \"1995-96\" AND \"School/Club Team\" =    │\n",
       "│\u001b[1;36m                    \u001b[0m│ \"Barton CC (KS)\";                                                                          │\n",
       "├────────────────────┼────────────────────────────────────────────────────────────────────────────────────────────┤\n",
       "│\u001b[1;36m \u001b[0m\u001b[1;36mGold SQL          \u001b[0m\u001b[1;36m \u001b[0m│ SELECT \"School/Club Team\" FROM \"1-10015132-16\" WHERE \"Years in Toronto\" = '1995-96';       │\n",
       "├────────────────────┼────────────────────────────────────────────────────────────────────────────────────────────┤\n",
       "│\u001b[1;36m \u001b[0m\u001b[1;36mPrediction Results\u001b[0m\u001b[1;36m \u001b[0m│ []                                                                                         │\n",
       "├────────────────────┼────────────────────────────────────────────────────────────────────────────────────────────┤\n",
       "│\u001b[1;36m \u001b[0m\u001b[1;36mGold Results      \u001b[0m\u001b[1;36m \u001b[0m│ [('Arkansas',)]                                                                            │\n",
       "└────────────────────┴────────────────────────────────────────────────────────────────────────────────────────────┘\n"
      ]
     },
     "metadata": {},
     "output_type": "display_data"
    },
    {
     "data": {
      "text/html": [
       "<pre style=\"white-space:pre;overflow-x:auto;line-height:normal;font-family:Menlo,'DejaVu Sans Mono',consolas,'Courier New',monospace\"><span style=\"font-style: italic\">                               </span><span style=\"color: #800000; text-decoration-color: #800000; font-style: italic\">Mismatch for Question 5</span><span style=\"font-style: italic\">                                </span>\n",
       "┏━━━━━━━━━━━━━━━━━━━━┳━━━━━━━━━━━━━━━━━━━━━━━━━━━━━━━━━━━━━━━━━━━━━━━━━━━━━━━━━━━━━━━┓\n",
       "┃<span style=\"font-weight: bold\"> Field              </span>┃<span style=\"font-weight: bold\"> Value                                                         </span>┃\n",
       "┡━━━━━━━━━━━━━━━━━━━━╇━━━━━━━━━━━━━━━━━━━━━━━━━━━━━━━━━━━━━━━━━━━━━━━━━━━━━━━━━━━━━━━┩\n",
       "│<span style=\"color: #008080; text-decoration-color: #008080; font-weight: bold\"> Question           </span>│ Where was Assen held?                                         │\n",
       "├────────────────────┼───────────────────────────────────────────────────────────────┤\n",
       "│<span style=\"color: #008080; text-decoration-color: #008080; font-weight: bold\"> Model Output SQL   </span>│ SELECT \"Circuit\" FROM \"Table\" WHERE \"No\" = 1;                 │\n",
       "├────────────────────┼───────────────────────────────────────────────────────────────┤\n",
       "│<span style=\"color: #008080; text-decoration-color: #008080; font-weight: bold\"> Gold SQL           </span>│ SELECT \"Round\" FROM \"1-10083598-1\" WHERE \"Circuit\" = 'Assen'; │\n",
       "├────────────────────┼───────────────────────────────────────────────────────────────┤\n",
       "│<span style=\"color: #008080; text-decoration-color: #008080; font-weight: bold\"> Prediction Results </span>│ [('Losail',)]                                                 │\n",
       "├────────────────────┼───────────────────────────────────────────────────────────────┤\n",
       "│<span style=\"color: #008080; text-decoration-color: #008080; font-weight: bold\"> Gold Results       </span>│ [('Netherlands',)]                                            │\n",
       "└────────────────────┴───────────────────────────────────────────────────────────────┘\n",
       "</pre>\n"
      ],
      "text/plain": [
       "\u001b[3m                               \u001b[0m\u001b[3;31mMismatch for Question 5\u001b[0m\u001b[3m                                \u001b[0m\n",
       "┏━━━━━━━━━━━━━━━━━━━━┳━━━━━━━━━━━━━━━━━━━━━━━━━━━━━━━━━━━━━━━━━━━━━━━━━━━━━━━━━━━━━━━┓\n",
       "┃\u001b[1m \u001b[0m\u001b[1mField             \u001b[0m\u001b[1m \u001b[0m┃\u001b[1m \u001b[0m\u001b[1mValue                                                        \u001b[0m\u001b[1m \u001b[0m┃\n",
       "┡━━━━━━━━━━━━━━━━━━━━╇━━━━━━━━━━━━━━━━━━━━━━━━━━━━━━━━━━━━━━━━━━━━━━━━━━━━━━━━━━━━━━━┩\n",
       "│\u001b[1;36m \u001b[0m\u001b[1;36mQuestion          \u001b[0m\u001b[1;36m \u001b[0m│ Where was Assen held?                                         │\n",
       "├────────────────────┼───────────────────────────────────────────────────────────────┤\n",
       "│\u001b[1;36m \u001b[0m\u001b[1;36mModel Output SQL  \u001b[0m\u001b[1;36m \u001b[0m│ SELECT \"Circuit\" FROM \"Table\" WHERE \"No\" = 1;                 │\n",
       "├────────────────────┼───────────────────────────────────────────────────────────────┤\n",
       "│\u001b[1;36m \u001b[0m\u001b[1;36mGold SQL          \u001b[0m\u001b[1;36m \u001b[0m│ SELECT \"Round\" FROM \"1-10083598-1\" WHERE \"Circuit\" = 'Assen'; │\n",
       "├────────────────────┼───────────────────────────────────────────────────────────────┤\n",
       "│\u001b[1;36m \u001b[0m\u001b[1;36mPrediction Results\u001b[0m\u001b[1;36m \u001b[0m│ [('Losail',)]                                                 │\n",
       "├────────────────────┼───────────────────────────────────────────────────────────────┤\n",
       "│\u001b[1;36m \u001b[0m\u001b[1;36mGold Results      \u001b[0m\u001b[1;36m \u001b[0m│ [('Netherlands',)]                                            │\n",
       "└────────────────────┴───────────────────────────────────────────────────────────────┘\n"
      ]
     },
     "metadata": {},
     "output_type": "display_data"
    },
    {
     "data": {
      "text/html": [
       "<pre style=\"white-space:pre;overflow-x:auto;line-height:normal;font-family:Menlo,'DejaVu Sans Mono',consolas,'Courier New',monospace\"><span style=\"font-style: italic\">                                        </span><span style=\"color: #800000; text-decoration-color: #800000; font-style: italic\">Mismatch for Question 6</span><span style=\"font-style: italic\">                                         </span>\n",
       "┏━━━━━━━━━━━━━━━━━━━━┳━━━━━━━━━━━━━━━━━━━━━━━━━━━━━━━━━━━━━━━━━━━━━━━━━━━━━━━━━━━━━━━━━━━━━━━━━━━━━━━━━┓\n",
       "┃<span style=\"font-weight: bold\"> Field              </span>┃<span style=\"font-weight: bold\"> Value                                                                           </span>┃\n",
       "┡━━━━━━━━━━━━━━━━━━━━╇━━━━━━━━━━━━━━━━━━━━━━━━━━━━━━━━━━━━━━━━━━━━━━━━━━━━━━━━━━━━━━━━━━━━━━━━━━━━━━━━━┩\n",
       "│<span style=\"color: #008080; text-decoration-color: #008080; font-weight: bold\"> Question           </span>│ What was the number of race that Kevin Curtain won?                             │\n",
       "├────────────────────┼─────────────────────────────────────────────────────────────────────────────────┤\n",
       "│<span style=\"color: #008080; text-decoration-color: #008080; font-weight: bold\"> Model Output SQL   </span>│ SELECT COUNT(*) FROM \"Table\" WHERE \"Race winner\" = \"Kevin Curtain\";             │\n",
       "├────────────────────┼─────────────────────────────────────────────────────────────────────────────────┤\n",
       "│<span style=\"color: #008080; text-decoration-color: #008080; font-weight: bold\"> Gold SQL           </span>│ SELECT COUNT(\"No\") FROM \"1-10083598-1\" WHERE \"Pole Position\" = 'Kevin Curtain'; │\n",
       "├────────────────────┼─────────────────────────────────────────────────────────────────────────────────┤\n",
       "│<span style=\"color: #008080; text-decoration-color: #008080; font-weight: bold\"> Prediction Results </span>│ [(0,)]                                                                          │\n",
       "├────────────────────┼─────────────────────────────────────────────────────────────────────────────────┤\n",
       "│<span style=\"color: #008080; text-decoration-color: #008080; font-weight: bold\"> Gold Results       </span>│ [(1,)]                                                                          │\n",
       "└────────────────────┴─────────────────────────────────────────────────────────────────────────────────┘\n",
       "</pre>\n"
      ],
      "text/plain": [
       "\u001b[3m                                        \u001b[0m\u001b[3;31mMismatch for Question 6\u001b[0m\u001b[3m                                         \u001b[0m\n",
       "┏━━━━━━━━━━━━━━━━━━━━┳━━━━━━━━━━━━━━━━━━━━━━━━━━━━━━━━━━━━━━━━━━━━━━━━━━━━━━━━━━━━━━━━━━━━━━━━━━━━━━━━━┓\n",
       "┃\u001b[1m \u001b[0m\u001b[1mField             \u001b[0m\u001b[1m \u001b[0m┃\u001b[1m \u001b[0m\u001b[1mValue                                                                          \u001b[0m\u001b[1m \u001b[0m┃\n",
       "┡━━━━━━━━━━━━━━━━━━━━╇━━━━━━━━━━━━━━━━━━━━━━━━━━━━━━━━━━━━━━━━━━━━━━━━━━━━━━━━━━━━━━━━━━━━━━━━━━━━━━━━━┩\n",
       "│\u001b[1;36m \u001b[0m\u001b[1;36mQuestion          \u001b[0m\u001b[1;36m \u001b[0m│ What was the number of race that Kevin Curtain won?                             │\n",
       "├────────────────────┼─────────────────────────────────────────────────────────────────────────────────┤\n",
       "│\u001b[1;36m \u001b[0m\u001b[1;36mModel Output SQL  \u001b[0m\u001b[1;36m \u001b[0m│ SELECT COUNT(*) FROM \"Table\" WHERE \"Race winner\" = \"Kevin Curtain\";             │\n",
       "├────────────────────┼─────────────────────────────────────────────────────────────────────────────────┤\n",
       "│\u001b[1;36m \u001b[0m\u001b[1;36mGold SQL          \u001b[0m\u001b[1;36m \u001b[0m│ SELECT COUNT(\"No\") FROM \"1-10083598-1\" WHERE \"Pole Position\" = 'Kevin Curtain'; │\n",
       "├────────────────────┼─────────────────────────────────────────────────────────────────────────────────┤\n",
       "│\u001b[1;36m \u001b[0m\u001b[1;36mPrediction Results\u001b[0m\u001b[1;36m \u001b[0m│ [(0,)]                                                                          │\n",
       "├────────────────────┼─────────────────────────────────────────────────────────────────────────────────┤\n",
       "│\u001b[1;36m \u001b[0m\u001b[1;36mGold Results      \u001b[0m\u001b[1;36m \u001b[0m│ [(1,)]                                                                          │\n",
       "└────────────────────┴─────────────────────────────────────────────────────────────────────────────────┘\n"
      ]
     },
     "metadata": {},
     "output_type": "display_data"
    },
    {
     "data": {
      "text/html": [
       "<pre style=\"white-space:pre;overflow-x:auto;line-height:normal;font-family:Menlo,'DejaVu Sans Mono',consolas,'Courier New',monospace\"><span style=\"font-style: italic\">                               </span><span style=\"color: #800000; text-decoration-color: #800000; font-style: italic\">Mismatch for Question 7</span><span style=\"font-style: italic\">                                </span>\n",
       "┏━━━━━━━━━━━━━━━━━━━━┳━━━━━━━━━━━━━━━━━━━━━━━━━━━━━━━━━━━━━━━━━━━━━━━━━━━━━━━━━━━━━━━┓\n",
       "┃<span style=\"font-weight: bold\"> Field              </span>┃<span style=\"font-weight: bold\"> Value                                                         </span>┃\n",
       "┡━━━━━━━━━━━━━━━━━━━━╇━━━━━━━━━━━━━━━━━━━━━━━━━━━━━━━━━━━━━━━━━━━━━━━━━━━━━━━━━━━━━━━┩\n",
       "│<span style=\"color: #008080; text-decoration-color: #008080; font-weight: bold\"> Question           </span>│ What was the date of the race in Misano?                      │\n",
       "├────────────────────┼───────────────────────────────────────────────────────────────┤\n",
       "│<span style=\"color: #008080; text-decoration-color: #008080; font-weight: bold\"> Model Output SQL   </span>│ SELECT \"Date\" FROM \"Table\" WHERE \"Round\" = \"Misano\";          │\n",
       "├────────────────────┼───────────────────────────────────────────────────────────────┤\n",
       "│<span style=\"color: #008080; text-decoration-color: #008080; font-weight: bold\"> Gold SQL           </span>│ SELECT \"Date\" FROM \"1-10083598-1\" WHERE \"Circuit\" = 'Misano'; │\n",
       "├────────────────────┼───────────────────────────────────────────────────────────────┤\n",
       "│<span style=\"color: #008080; text-decoration-color: #008080; font-weight: bold\"> Prediction Results </span>│ []                                                            │\n",
       "├────────────────────┼───────────────────────────────────────────────────────────────┤\n",
       "│<span style=\"color: #008080; text-decoration-color: #008080; font-weight: bold\"> Gold Results       </span>│ [('17 June',)]                                                │\n",
       "└────────────────────┴───────────────────────────────────────────────────────────────┘\n",
       "</pre>\n"
      ],
      "text/plain": [
       "\u001b[3m                               \u001b[0m\u001b[3;31mMismatch for Question 7\u001b[0m\u001b[3m                                \u001b[0m\n",
       "┏━━━━━━━━━━━━━━━━━━━━┳━━━━━━━━━━━━━━━━━━━━━━━━━━━━━━━━━━━━━━━━━━━━━━━━━━━━━━━━━━━━━━━┓\n",
       "┃\u001b[1m \u001b[0m\u001b[1mField             \u001b[0m\u001b[1m \u001b[0m┃\u001b[1m \u001b[0m\u001b[1mValue                                                        \u001b[0m\u001b[1m \u001b[0m┃\n",
       "┡━━━━━━━━━━━━━━━━━━━━╇━━━━━━━━━━━━━━━━━━━━━━━━━━━━━━━━━━━━━━━━━━━━━━━━━━━━━━━━━━━━━━━┩\n",
       "│\u001b[1;36m \u001b[0m\u001b[1;36mQuestion          \u001b[0m\u001b[1;36m \u001b[0m│ What was the date of the race in Misano?                      │\n",
       "├────────────────────┼───────────────────────────────────────────────────────────────┤\n",
       "│\u001b[1;36m \u001b[0m\u001b[1;36mModel Output SQL  \u001b[0m\u001b[1;36m \u001b[0m│ SELECT \"Date\" FROM \"Table\" WHERE \"Round\" = \"Misano\";          │\n",
       "├────────────────────┼───────────────────────────────────────────────────────────────┤\n",
       "│\u001b[1;36m \u001b[0m\u001b[1;36mGold SQL          \u001b[0m\u001b[1;36m \u001b[0m│ SELECT \"Date\" FROM \"1-10083598-1\" WHERE \"Circuit\" = 'Misano'; │\n",
       "├────────────────────┼───────────────────────────────────────────────────────────────┤\n",
       "│\u001b[1;36m \u001b[0m\u001b[1;36mPrediction Results\u001b[0m\u001b[1;36m \u001b[0m│ []                                                            │\n",
       "├────────────────────┼───────────────────────────────────────────────────────────────┤\n",
       "│\u001b[1;36m \u001b[0m\u001b[1;36mGold Results      \u001b[0m\u001b[1;36m \u001b[0m│ [('17 June',)]                                                │\n",
       "└────────────────────┴───────────────────────────────────────────────────────────────┘\n"
      ]
     },
     "metadata": {},
     "output_type": "display_data"
    },
    {
     "data": {
      "text/html": [
       "<pre style=\"white-space:pre;overflow-x:auto;line-height:normal;font-family:Menlo,'DejaVu Sans Mono',consolas,'Courier New',monospace\"><span style=\"font-style: italic\">                                              </span><span style=\"color: #800000; text-decoration-color: #800000; font-style: italic\">Mismatch for Question 8</span><span style=\"font-style: italic\">                                              </span>\n",
       "┏━━━━━━━━━━━━━━━━━━━━┳━━━━━━━━━━━━━━━━━━━━━━━━━━━━━━━━━━━━━━━━━━━━━━━━━━━━━━━━━━━━━━━━━━━━━━━━━━━━━━━━━━━━━━━━━━━━┓\n",
       "┃<span style=\"font-weight: bold\"> Field              </span>┃<span style=\"font-weight: bold\"> Value                                                                                      </span>┃\n",
       "┡━━━━━━━━━━━━━━━━━━━━╇━━━━━━━━━━━━━━━━━━━━━━━━━━━━━━━━━━━━━━━━━━━━━━━━━━━━━━━━━━━━━━━━━━━━━━━━━━━━━━━━━━━━━━━━━━━━┩\n",
       "│<span style=\"color: #008080; text-decoration-color: #008080; font-weight: bold\"> Question           </span>│ How many different positions did Sherbrooke Faucons (QMJHL) provide in the draft?          │\n",
       "├────────────────────┼────────────────────────────────────────────────────────────────────────────────────────────┤\n",
       "│<span style=\"color: #008080; text-decoration-color: #008080; font-weight: bold\"> Model Output SQL   </span>│ SELECT COUNT(DISTINCT \"Position\") FROM \"Table\" WHERE \"NHL team\" = \"Sherbrooke Faucons      │\n",
       "│<span style=\"color: #008080; text-decoration-color: #008080; font-weight: bold\">                    </span>│ (QMJHL)\";                                                                                  │\n",
       "├────────────────────┼────────────────────────────────────────────────────────────────────────────────────────────┤\n",
       "│<span style=\"color: #008080; text-decoration-color: #008080; font-weight: bold\"> Gold SQL           </span>│ SELECT COUNT(\"Position\") FROM \"1-1013129-2\" WHERE \"College/junior/club team\" = 'Sherbrooke │\n",
       "│<span style=\"color: #008080; text-decoration-color: #008080; font-weight: bold\">                    </span>│ Faucons (QMJHL)';                                                                          │\n",
       "├────────────────────┼────────────────────────────────────────────────────────────────────────────────────────────┤\n",
       "│<span style=\"color: #008080; text-decoration-color: #008080; font-weight: bold\"> Prediction Results </span>│ [(0,)]                                                                                     │\n",
       "├────────────────────┼────────────────────────────────────────────────────────────────────────────────────────────┤\n",
       "│<span style=\"color: #008080; text-decoration-color: #008080; font-weight: bold\"> Gold Results       </span>│ [(1,)]                                                                                     │\n",
       "└────────────────────┴────────────────────────────────────────────────────────────────────────────────────────────┘\n",
       "</pre>\n"
      ],
      "text/plain": [
       "\u001b[3m                                              \u001b[0m\u001b[3;31mMismatch for Question 8\u001b[0m\u001b[3m                                              \u001b[0m\n",
       "┏━━━━━━━━━━━━━━━━━━━━┳━━━━━━━━━━━━━━━━━━━━━━━━━━━━━━━━━━━━━━━━━━━━━━━━━━━━━━━━━━━━━━━━━━━━━━━━━━━━━━━━━━━━━━━━━━━━┓\n",
       "┃\u001b[1m \u001b[0m\u001b[1mField             \u001b[0m\u001b[1m \u001b[0m┃\u001b[1m \u001b[0m\u001b[1mValue                                                                                     \u001b[0m\u001b[1m \u001b[0m┃\n",
       "┡━━━━━━━━━━━━━━━━━━━━╇━━━━━━━━━━━━━━━━━━━━━━━━━━━━━━━━━━━━━━━━━━━━━━━━━━━━━━━━━━━━━━━━━━━━━━━━━━━━━━━━━━━━━━━━━━━━┩\n",
       "│\u001b[1;36m \u001b[0m\u001b[1;36mQuestion          \u001b[0m\u001b[1;36m \u001b[0m│ How many different positions did Sherbrooke Faucons (QMJHL) provide in the draft?          │\n",
       "├────────────────────┼────────────────────────────────────────────────────────────────────────────────────────────┤\n",
       "│\u001b[1;36m \u001b[0m\u001b[1;36mModel Output SQL  \u001b[0m\u001b[1;36m \u001b[0m│ SELECT COUNT(DISTINCT \"Position\") FROM \"Table\" WHERE \"NHL team\" = \"Sherbrooke Faucons      │\n",
       "│\u001b[1;36m                    \u001b[0m│ (QMJHL)\";                                                                                  │\n",
       "├────────────────────┼────────────────────────────────────────────────────────────────────────────────────────────┤\n",
       "│\u001b[1;36m \u001b[0m\u001b[1;36mGold SQL          \u001b[0m\u001b[1;36m \u001b[0m│ SELECT COUNT(\"Position\") FROM \"1-1013129-2\" WHERE \"College/junior/club team\" = 'Sherbrooke │\n",
       "│\u001b[1;36m                    \u001b[0m│ Faucons (QMJHL)';                                                                          │\n",
       "├────────────────────┼────────────────────────────────────────────────────────────────────────────────────────────┤\n",
       "│\u001b[1;36m \u001b[0m\u001b[1;36mPrediction Results\u001b[0m\u001b[1;36m \u001b[0m│ [(0,)]                                                                                     │\n",
       "├────────────────────┼────────────────────────────────────────────────────────────────────────────────────────────┤\n",
       "│\u001b[1;36m \u001b[0m\u001b[1;36mGold Results      \u001b[0m\u001b[1;36m \u001b[0m│ [(1,)]                                                                                     │\n",
       "└────────────────────┴────────────────────────────────────────────────────────────────────────────────────────────┘\n"
      ]
     },
     "metadata": {},
     "output_type": "display_data"
    },
    {
     "data": {
      "text/html": [
       "<pre style=\"white-space:pre;overflow-x:auto;line-height:normal;font-family:Menlo,'DejaVu Sans Mono',consolas,'Courier New',monospace\"></pre>\n"
      ],
      "text/plain": []
     },
     "metadata": {},
     "output_type": "display_data"
    },
    {
     "data": {
      "text/html": [
       "<pre style=\"white-space:pre;overflow-x:auto;line-height:normal;font-family:Menlo,'DejaVu Sans Mono',consolas,'Courier New',monospace\"><span style=\"font-style: italic\">          </span><span style=\"color: #008000; text-decoration-color: #008000; font-style: italic\">Evaluation Summary</span><span style=\"font-style: italic\">          </span>\n",
       "┏━━━━━━━━━━━━━━━━━━━┳━━━━━━━━━━━━━━━━┓\n",
       "┃<span style=\"font-weight: bold\"> Metric            </span>┃<span style=\"font-weight: bold\"> Value          </span>┃\n",
       "┡━━━━━━━━━━━━━━━━━━━╇━━━━━━━━━━━━━━━━┩\n",
       "│<span style=\"color: #008000; text-decoration-color: #008000; font-weight: bold\"> Total Samples     </span>│<span style=\"color: #808000; text-decoration-color: #808000; font-weight: bold\"> 80330          </span>│\n",
       "├───────────────────┼────────────────┤\n",
       "│<span style=\"color: #008000; text-decoration-color: #008000; font-weight: bold\"> Correct Results   </span>│<span style=\"color: #808000; text-decoration-color: #808000; font-weight: bold\"> 51528 (64.15%) </span>│\n",
       "├───────────────────┼────────────────┤\n",
       "│<span style=\"color: #008000; text-decoration-color: #008000; font-weight: bold\"> Prediction None   </span>│<span style=\"color: #808000; text-decoration-color: #808000; font-weight: bold\"> 4595/80330     </span>│\n",
       "├───────────────────┼────────────────┤\n",
       "│<span style=\"color: #008000; text-decoration-color: #008000; font-weight: bold\"> Ground Truth None </span>│<span style=\"color: #808000; text-decoration-color: #808000; font-weight: bold\"> 6274/80330     </span>│\n",
       "├───────────────────┼────────────────┤\n",
       "│<span style=\"color: #008000; text-decoration-color: #008000; font-weight: bold\"> SQL Errors        </span>│<span style=\"color: #808000; text-decoration-color: #808000; font-weight: bold\"> 803            </span>│\n",
       "└───────────────────┴────────────────┘\n",
       "</pre>\n"
      ],
      "text/plain": [
       "\u001b[3m          \u001b[0m\u001b[3;32mEvaluation Summary\u001b[0m\u001b[3m          \u001b[0m\n",
       "┏━━━━━━━━━━━━━━━━━━━┳━━━━━━━━━━━━━━━━┓\n",
       "┃\u001b[1m \u001b[0m\u001b[1mMetric           \u001b[0m\u001b[1m \u001b[0m┃\u001b[1m \u001b[0m\u001b[1mValue         \u001b[0m\u001b[1m \u001b[0m┃\n",
       "┡━━━━━━━━━━━━━━━━━━━╇━━━━━━━━━━━━━━━━┩\n",
       "│\u001b[1;32m \u001b[0m\u001b[1;32mTotal Samples    \u001b[0m\u001b[1;32m \u001b[0m│\u001b[1;33m \u001b[0m\u001b[1;33m80330         \u001b[0m\u001b[1;33m \u001b[0m│\n",
       "├───────────────────┼────────────────┤\n",
       "│\u001b[1;32m \u001b[0m\u001b[1;32mCorrect Results  \u001b[0m\u001b[1;32m \u001b[0m│\u001b[1;33m \u001b[0m\u001b[1;33m51528 (64.15%)\u001b[0m\u001b[1;33m \u001b[0m│\n",
       "├───────────────────┼────────────────┤\n",
       "│\u001b[1;32m \u001b[0m\u001b[1;32mPrediction None  \u001b[0m\u001b[1;32m \u001b[0m│\u001b[1;33m \u001b[0m\u001b[1;33m4595/80330    \u001b[0m\u001b[1;33m \u001b[0m│\n",
       "├───────────────────┼────────────────┤\n",
       "│\u001b[1;32m \u001b[0m\u001b[1;32mGround Truth None\u001b[0m\u001b[1;32m \u001b[0m│\u001b[1;33m \u001b[0m\u001b[1;33m6274/80330    \u001b[0m\u001b[1;33m \u001b[0m│\n",
       "├───────────────────┼────────────────┤\n",
       "│\u001b[1;32m \u001b[0m\u001b[1;32mSQL Errors       \u001b[0m\u001b[1;32m \u001b[0m│\u001b[1;33m \u001b[0m\u001b[1;33m803           \u001b[0m\u001b[1;33m \u001b[0m│\n",
       "└───────────────────┴────────────────┘\n"
      ]
     },
     "metadata": {},
     "output_type": "display_data"
    }
   ],
   "source": [
    "from llmsql import LLMSQLEvaluator\n",
    "evaluator = LLMSQLEvaluator()\n",
    "report = evaluator.evaluate(\"test_output.jsonl\")"
   ]
  }
 ],
 "metadata": {
  "kernelspec": {
   "display_name": ".venv",
   "language": "python",
   "name": "python3"
  },
  "language_info": {
   "codemirror_mode": {
    "name": "ipython",
    "version": 3
   },
   "file_extension": ".py",
   "mimetype": "text/x-python",
   "name": "python",
   "nbconvert_exporter": "python",
   "pygments_lexer": "ipython3",
   "version": "3.12.11"
  }
 },
 "nbformat": 4,
 "nbformat_minor": 5
}
