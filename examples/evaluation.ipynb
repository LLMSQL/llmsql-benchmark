{
 "cells": [
  {
   "cell_type": "code",
   "execution_count": 2,
   "id": "7e73d00f",
   "metadata": {},
   "outputs": [],
   "source": [
    "from llmsql import LLMSQLEvaluator"
   ]
  },
  {
   "cell_type": "code",
   "execution_count": null,
   "id": "0341b66a",
   "metadata": {},
   "outputs": [
    {
     "name": "stderr",
     "output_type": "stream",
     "text": [
      "2025-09-23 14:18:28,235 [INFO] llmsql-bench: File saved at: llmsql_workdir/questions.jsonl\n",
      "2025-09-23 14:18:28,377 [INFO] llmsql-bench: File saved at: llmsql_workdir/sqlite_tables.db\n"
     ]
    },
    {
     "data": {
      "application/vnd.jupyter.widget-view+json": {
       "model_id": "54c981dba83a454d99bf01dfcedeace0",
       "version_major": 2,
       "version_minor": 0
      },
      "text/plain": [
       "Output()"
      ]
     },
     "metadata": {},
     "output_type": "display_data"
    },
    {
     "data": {
      "text/html": [
       "<pre style=\"white-space:pre;overflow-x:auto;line-height:normal;font-family:Menlo,'DejaVu Sans Mono',consolas,'Courier New',monospace\"><span style=\"font-style: italic\">                                     </span><span style=\"color: #800000; text-decoration-color: #800000; font-style: italic\">Mismatch for Question 15842</span><span style=\"font-style: italic\">                                      </span>\n",
       "┏━━━━━━━━━━━━━━━━━━━━┳━━━━━━━━━━━━━━━━━━━━━━━━━━━━━━━━━━━━━━━━━━━━━━━━━━━━━━━━━━━━━━━━━━━━━━━━━━━━━━━┓\n",
       "┃<span style=\"font-weight: bold\"> Field              </span>┃<span style=\"font-weight: bold\"> Value                                                                         </span>┃\n",
       "┡━━━━━━━━━━━━━━━━━━━━╇━━━━━━━━━━━━━━━━━━━━━━━━━━━━━━━━━━━━━━━━━━━━━━━━━━━━━━━━━━━━━━━━━━━━━━━━━━━━━━━┩\n",
       "│<span style=\"color: #008080; text-decoration-color: #008080; font-weight: bold\"> Question           </span>│ What are the total amount of numbers on the Toronto team in 2005-06?          │\n",
       "├────────────────────┼───────────────────────────────────────────────────────────────────────────────┤\n",
       "│<span style=\"color: #008080; text-decoration-color: #008080; font-weight: bold\"> Model Output SQL   </span>│ SELECT SUM(\"No.\") FROM \"Table\" WHERE \"Years in Toronto\" = \"2005-06\";          │\n",
       "├────────────────────┼───────────────────────────────────────────────────────────────────────────────┤\n",
       "│<span style=\"color: #008080; text-decoration-color: #008080; font-weight: bold\"> Gold SQL           </span>│ SELECT COUNT(\"No.\") FROM \"1-10015132-9\" WHERE \"Years in Toronto\" = '2005-06'; │\n",
       "├────────────────────┼───────────────────────────────────────────────────────────────────────────────┤\n",
       "│<span style=\"color: #008080; text-decoration-color: #008080; font-weight: bold\"> Prediction Results </span>│ [(13,)]                                                                       │\n",
       "├────────────────────┼───────────────────────────────────────────────────────────────────────────────┤\n",
       "│<span style=\"color: #008080; text-decoration-color: #008080; font-weight: bold\"> Gold Results       </span>│ [(1,)]                                                                        │\n",
       "└────────────────────┴───────────────────────────────────────────────────────────────────────────────┘\n",
       "</pre>\n"
      ],
      "text/plain": [
       "\u001b[3m                                     \u001b[0m\u001b[3;31mMismatch for Question 15842\u001b[0m\u001b[3m                                      \u001b[0m\n",
       "┏━━━━━━━━━━━━━━━━━━━━┳━━━━━━━━━━━━━━━━━━━━━━━━━━━━━━━━━━━━━━━━━━━━━━━━━━━━━━━━━━━━━━━━━━━━━━━━━━━━━━━┓\n",
       "┃\u001b[1m \u001b[0m\u001b[1mField             \u001b[0m\u001b[1m \u001b[0m┃\u001b[1m \u001b[0m\u001b[1mValue                                                                        \u001b[0m\u001b[1m \u001b[0m┃\n",
       "┡━━━━━━━━━━━━━━━━━━━━╇━━━━━━━━━━━━━━━━━━━━━━━━━━━━━━━━━━━━━━━━━━━━━━━━━━━━━━━━━━━━━━━━━━━━━━━━━━━━━━━┩\n",
       "│\u001b[1;36m \u001b[0m\u001b[1;36mQuestion          \u001b[0m\u001b[1;36m \u001b[0m│ What are the total amount of numbers on the Toronto team in 2005-06?          │\n",
       "├────────────────────┼───────────────────────────────────────────────────────────────────────────────┤\n",
       "│\u001b[1;36m \u001b[0m\u001b[1;36mModel Output SQL  \u001b[0m\u001b[1;36m \u001b[0m│ SELECT SUM(\"No.\") FROM \"Table\" WHERE \"Years in Toronto\" = \"2005-06\";          │\n",
       "├────────────────────┼───────────────────────────────────────────────────────────────────────────────┤\n",
       "│\u001b[1;36m \u001b[0m\u001b[1;36mGold SQL          \u001b[0m\u001b[1;36m \u001b[0m│ SELECT COUNT(\"No.\") FROM \"1-10015132-9\" WHERE \"Years in Toronto\" = '2005-06'; │\n",
       "├────────────────────┼───────────────────────────────────────────────────────────────────────────────┤\n",
       "│\u001b[1;36m \u001b[0m\u001b[1;36mPrediction Results\u001b[0m\u001b[1;36m \u001b[0m│ [(13,)]                                                                       │\n",
       "├────────────────────┼───────────────────────────────────────────────────────────────────────────────┤\n",
       "│\u001b[1;36m \u001b[0m\u001b[1;36mGold Results      \u001b[0m\u001b[1;36m \u001b[0m│ [(1,)]                                                                        │\n",
       "└────────────────────┴───────────────────────────────────────────────────────────────────────────────┘\n"
      ]
     },
     "metadata": {},
     "output_type": "display_data"
    },
    {
     "data": {
      "text/html": [
       "<pre style=\"white-space:pre;overflow-x:auto;line-height:normal;font-family:Menlo,'DejaVu Sans Mono',consolas,'Courier New',monospace\"><span style=\"font-style: italic\">                                            </span><span style=\"color: #800000; text-decoration-color: #800000; font-style: italic\">Mismatch for Question 15863</span><span style=\"font-style: italic\">                                            </span>\n",
       "┏━━━━━━━━━━━━━━━━━━━━┳━━━━━━━━━━━━━━━━━━━━━━━━━━━━━━━━━━━━━━━━━━━━━━━━━━━━━━━━━━━━━━━━━━━━━━━━━━━━━━━━━━━━━━━━━━━━┓\n",
       "┃<span style=\"font-weight: bold\"> Field              </span>┃<span style=\"font-weight: bold\"> Value                                                                                      </span>┃\n",
       "┡━━━━━━━━━━━━━━━━━━━━╇━━━━━━━━━━━━━━━━━━━━━━━━━━━━━━━━━━━━━━━━━━━━━━━━━━━━━━━━━━━━━━━━━━━━━━━━━━━━━━━━━━━━━━━━━━━━┩\n",
       "│<span style=\"color: #008080; text-decoration-color: #008080; font-weight: bold\"> Question           </span>│ When the value of \"Since Beginning of Big 12\" is synonymous with its' category, what are   │\n",
       "│<span style=\"color: #008080; text-decoration-color: #008080; font-weight: bold\">                    </span>│ the in Ames values?                                                                        │\n",
       "├────────────────────┼────────────────────────────────────────────────────────────────────────────────────────────┤\n",
       "│<span style=\"color: #008080; text-decoration-color: #008080; font-weight: bold\"> Model Output SQL   </span>│ SELECT \"in Ames\" FROM \"Table\" WHERE \"Since Beginning of Big 12\" = \"Iowa State vs.\";        │\n",
       "├────────────────────┼────────────────────────────────────────────────────────────────────────────────────────────┤\n",
       "│<span style=\"color: #008080; text-decoration-color: #008080; font-weight: bold\"> Gold SQL           </span>│ SELECT \"in Ames\" FROM \"1-10429820-13\" WHERE \"Since Beginning of Big 12\" = 'Since Beginning │\n",
       "│<span style=\"color: #008080; text-decoration-color: #008080; font-weight: bold\">                    </span>│ of Big 12';                                                                                │\n",
       "├────────────────────┼────────────────────────────────────────────────────────────────────────────────────────────┤\n",
       "│<span style=\"color: #008080; text-decoration-color: #008080; font-weight: bold\"> Prediction Results </span>│ []                                                                                         │\n",
       "├────────────────────┼────────────────────────────────────────────────────────────────────────────────────────────┤\n",
       "│<span style=\"color: #008080; text-decoration-color: #008080; font-weight: bold\"> Gold Results       </span>│ [('in Ames',)]                                                                             │\n",
       "└────────────────────┴────────────────────────────────────────────────────────────────────────────────────────────┘\n",
       "</pre>\n"
      ],
      "text/plain": [
       "\u001b[3m                                            \u001b[0m\u001b[3;31mMismatch for Question 15863\u001b[0m\u001b[3m                                            \u001b[0m\n",
       "┏━━━━━━━━━━━━━━━━━━━━┳━━━━━━━━━━━━━━━━━━━━━━━━━━━━━━━━━━━━━━━━━━━━━━━━━━━━━━━━━━━━━━━━━━━━━━━━━━━━━━━━━━━━━━━━━━━━┓\n",
       "┃\u001b[1m \u001b[0m\u001b[1mField             \u001b[0m\u001b[1m \u001b[0m┃\u001b[1m \u001b[0m\u001b[1mValue                                                                                     \u001b[0m\u001b[1m \u001b[0m┃\n",
       "┡━━━━━━━━━━━━━━━━━━━━╇━━━━━━━━━━━━━━━━━━━━━━━━━━━━━━━━━━━━━━━━━━━━━━━━━━━━━━━━━━━━━━━━━━━━━━━━━━━━━━━━━━━━━━━━━━━━┩\n",
       "│\u001b[1;36m \u001b[0m\u001b[1;36mQuestion          \u001b[0m\u001b[1;36m \u001b[0m│ When the value of \"Since Beginning of Big 12\" is synonymous with its' category, what are   │\n",
       "│\u001b[1;36m                    \u001b[0m│ the in Ames values?                                                                        │\n",
       "├────────────────────┼────────────────────────────────────────────────────────────────────────────────────────────┤\n",
       "│\u001b[1;36m \u001b[0m\u001b[1;36mModel Output SQL  \u001b[0m\u001b[1;36m \u001b[0m│ SELECT \"in Ames\" FROM \"Table\" WHERE \"Since Beginning of Big 12\" = \"Iowa State vs.\";        │\n",
       "├────────────────────┼────────────────────────────────────────────────────────────────────────────────────────────┤\n",
       "│\u001b[1;36m \u001b[0m\u001b[1;36mGold SQL          \u001b[0m\u001b[1;36m \u001b[0m│ SELECT \"in Ames\" FROM \"1-10429820-13\" WHERE \"Since Beginning of Big 12\" = 'Since Beginning │\n",
       "│\u001b[1;36m                    \u001b[0m│ of Big 12';                                                                                │\n",
       "├────────────────────┼────────────────────────────────────────────────────────────────────────────────────────────┤\n",
       "│\u001b[1;36m \u001b[0m\u001b[1;36mPrediction Results\u001b[0m\u001b[1;36m \u001b[0m│ []                                                                                         │\n",
       "├────────────────────┼────────────────────────────────────────────────────────────────────────────────────────────┤\n",
       "│\u001b[1;36m \u001b[0m\u001b[1;36mGold Results      \u001b[0m\u001b[1;36m \u001b[0m│ [('in Ames',)]                                                                             │\n",
       "└────────────────────┴────────────────────────────────────────────────────────────────────────────────────────────┘\n"
      ]
     },
     "metadata": {},
     "output_type": "display_data"
    },
    {
     "data": {
      "text/html": [
       "<pre style=\"white-space:pre;overflow-x:auto;line-height:normal;font-family:Menlo,'DejaVu Sans Mono',consolas,'Courier New',monospace\"><span style=\"font-style: italic\">                                            </span><span style=\"color: #800000; text-decoration-color: #800000; font-style: italic\">Mismatch for Question 15864</span><span style=\"font-style: italic\">                                            </span>\n",
       "┏━━━━━━━━━━━━━━━━━━━━┳━━━━━━━━━━━━━━━━━━━━━━━━━━━━━━━━━━━━━━━━━━━━━━━━━━━━━━━━━━━━━━━━━━━━━━━━━━━━━━━━━━━━━━━━━━━━┓\n",
       "┃<span style=\"font-weight: bold\"> Field              </span>┃<span style=\"font-weight: bold\"> Value                                                                                      </span>┃\n",
       "┡━━━━━━━━━━━━━━━━━━━━╇━━━━━━━━━━━━━━━━━━━━━━━━━━━━━━━━━━━━━━━━━━━━━━━━━━━━━━━━━━━━━━━━━━━━━━━━━━━━━━━━━━━━━━━━━━━━┩\n",
       "│<span style=\"color: #008080; text-decoration-color: #008080; font-weight: bold\"> Question           </span>│ what's the u.s. open cup status for regular season of 4th, Atlantic Division               │\n",
       "├────────────────────┼────────────────────────────────────────────────────────────────────────────────────────────┤\n",
       "│<span style=\"color: #008080; text-decoration-color: #008080; font-weight: bold\"> Model Output SQL   </span>│ SELECT \"U.S. Open Cup\" FROM \"Table\" WHERE \"Regular Season\" = \"4th, Atlantic Division\" AND  │\n",
       "│<span style=\"color: #008080; text-decoration-color: #008080; font-weight: bold\">                    </span>│ \"Division\" = \"Atlantic Division\";                                                          │\n",
       "├────────────────────┼────────────────────────────────────────────────────────────────────────────────────────────┤\n",
       "│<span style=\"color: #008080; text-decoration-color: #008080; font-weight: bold\"> Gold SQL           </span>│ SELECT \"U.S. Open Cup\" FROM \"1-1046170-5\" WHERE \"Regular Season\" = '4th, Atlantic          │\n",
       "│<span style=\"color: #008080; text-decoration-color: #008080; font-weight: bold\">                    </span>│ Division';                                                                                 │\n",
       "├────────────────────┼────────────────────────────────────────────────────────────────────────────────────────────┤\n",
       "│<span style=\"color: #008080; text-decoration-color: #008080; font-weight: bold\"> Prediction Results </span>│ []                                                                                         │\n",
       "├────────────────────┼────────────────────────────────────────────────────────────────────────────────────────────┤\n",
       "│<span style=\"color: #008080; text-decoration-color: #008080; font-weight: bold\"> Gold Results       </span>│ [('Did Not Enter',)]                                                                       │\n",
       "└────────────────────┴────────────────────────────────────────────────────────────────────────────────────────────┘\n",
       "</pre>\n"
      ],
      "text/plain": [
       "\u001b[3m                                            \u001b[0m\u001b[3;31mMismatch for Question 15864\u001b[0m\u001b[3m                                            \u001b[0m\n",
       "┏━━━━━━━━━━━━━━━━━━━━┳━━━━━━━━━━━━━━━━━━━━━━━━━━━━━━━━━━━━━━━━━━━━━━━━━━━━━━━━━━━━━━━━━━━━━━━━━━━━━━━━━━━━━━━━━━━━┓\n",
       "┃\u001b[1m \u001b[0m\u001b[1mField             \u001b[0m\u001b[1m \u001b[0m┃\u001b[1m \u001b[0m\u001b[1mValue                                                                                     \u001b[0m\u001b[1m \u001b[0m┃\n",
       "┡━━━━━━━━━━━━━━━━━━━━╇━━━━━━━━━━━━━━━━━━━━━━━━━━━━━━━━━━━━━━━━━━━━━━━━━━━━━━━━━━━━━━━━━━━━━━━━━━━━━━━━━━━━━━━━━━━━┩\n",
       "│\u001b[1;36m \u001b[0m\u001b[1;36mQuestion          \u001b[0m\u001b[1;36m \u001b[0m│ what's the u.s. open cup status for regular season of 4th, Atlantic Division               │\n",
       "├────────────────────┼────────────────────────────────────────────────────────────────────────────────────────────┤\n",
       "│\u001b[1;36m \u001b[0m\u001b[1;36mModel Output SQL  \u001b[0m\u001b[1;36m \u001b[0m│ SELECT \"U.S. Open Cup\" FROM \"Table\" WHERE \"Regular Season\" = \"4th, Atlantic Division\" AND  │\n",
       "│\u001b[1;36m                    \u001b[0m│ \"Division\" = \"Atlantic Division\";                                                          │\n",
       "├────────────────────┼────────────────────────────────────────────────────────────────────────────────────────────┤\n",
       "│\u001b[1;36m \u001b[0m\u001b[1;36mGold SQL          \u001b[0m\u001b[1;36m \u001b[0m│ SELECT \"U.S. Open Cup\" FROM \"1-1046170-5\" WHERE \"Regular Season\" = '4th, Atlantic          │\n",
       "│\u001b[1;36m                    \u001b[0m│ Division';                                                                                 │\n",
       "├────────────────────┼────────────────────────────────────────────────────────────────────────────────────────────┤\n",
       "│\u001b[1;36m \u001b[0m\u001b[1;36mPrediction Results\u001b[0m\u001b[1;36m \u001b[0m│ []                                                                                         │\n",
       "├────────────────────┼────────────────────────────────────────────────────────────────────────────────────────────┤\n",
       "│\u001b[1;36m \u001b[0m\u001b[1;36mGold Results      \u001b[0m\u001b[1;36m \u001b[0m│ [('Did Not Enter',)]                                                                       │\n",
       "└────────────────────┴────────────────────────────────────────────────────────────────────────────────────────────┘\n"
      ]
     },
     "metadata": {},
     "output_type": "display_data"
    },
    {
     "data": {
      "text/html": [
       "<pre style=\"white-space:pre;overflow-x:auto;line-height:normal;font-family:Menlo,'DejaVu Sans Mono',consolas,'Courier New',monospace\"><span style=\"font-style: italic\">                                            </span><span style=\"color: #800000; text-decoration-color: #800000; font-style: italic\">Mismatch for Question 15865</span><span style=\"font-style: italic\">                                            </span>\n",
       "┏━━━━━━━━━━━━━━━━━━━━┳━━━━━━━━━━━━━━━━━━━━━━━━━━━━━━━━━━━━━━━━━━━━━━━━━━━━━━━━━━━━━━━━━━━━━━━━━━━━━━━━━━━━━━━━━━━━┓\n",
       "┃<span style=\"font-weight: bold\"> Field              </span>┃<span style=\"font-weight: bold\"> Value                                                                                      </span>┃\n",
       "┡━━━━━━━━━━━━━━━━━━━━╇━━━━━━━━━━━━━━━━━━━━━━━━━━━━━━━━━━━━━━━━━━━━━━━━━━━━━━━━━━━━━━━━━━━━━━━━━━━━━━━━━━━━━━━━━━━━┩\n",
       "│<span style=\"color: #008080; text-decoration-color: #008080; font-weight: bold\"> Question           </span>│ how many division  Did Not Qualify for u.s. open cup in 2003                               │\n",
       "├────────────────────┼────────────────────────────────────────────────────────────────────────────────────────────┤\n",
       "│<span style=\"color: #008080; text-decoration-color: #008080; font-weight: bold\"> Model Output SQL   </span>│ SELECT COUNT(*) FROM \"Table\" WHERE \"Year\" = 2003 AND \"U.S. Open Cup\" = \"Did Not Qualify\";  │\n",
       "├────────────────────┼────────────────────────────────────────────────────────────────────────────────────────────┤\n",
       "│<span style=\"color: #008080; text-decoration-color: #008080; font-weight: bold\"> Gold SQL           </span>│ SELECT \"Division\" FROM \"1-1046170-5\" WHERE \"U.S. Open Cup\" = 'Did Not Qualify' AND \"Year\"  │\n",
       "│<span style=\"color: #008080; text-decoration-color: #008080; font-weight: bold\">                    </span>│ = 2003.0;                                                                                  │\n",
       "├────────────────────┼────────────────────────────────────────────────────────────────────────────────────────────┤\n",
       "│<span style=\"color: #008080; text-decoration-color: #008080; font-weight: bold\"> Prediction Results </span>│ [(1,)]                                                                                     │\n",
       "├────────────────────┼────────────────────────────────────────────────────────────────────────────────────────────┤\n",
       "│<span style=\"color: #008080; text-decoration-color: #008080; font-weight: bold\"> Gold Results       </span>│ [('2',)]                                                                                   │\n",
       "└────────────────────┴────────────────────────────────────────────────────────────────────────────────────────────┘\n",
       "</pre>\n"
      ],
      "text/plain": [
       "\u001b[3m                                            \u001b[0m\u001b[3;31mMismatch for Question 15865\u001b[0m\u001b[3m                                            \u001b[0m\n",
       "┏━━━━━━━━━━━━━━━━━━━━┳━━━━━━━━━━━━━━━━━━━━━━━━━━━━━━━━━━━━━━━━━━━━━━━━━━━━━━━━━━━━━━━━━━━━━━━━━━━━━━━━━━━━━━━━━━━━┓\n",
       "┃\u001b[1m \u001b[0m\u001b[1mField             \u001b[0m\u001b[1m \u001b[0m┃\u001b[1m \u001b[0m\u001b[1mValue                                                                                     \u001b[0m\u001b[1m \u001b[0m┃\n",
       "┡━━━━━━━━━━━━━━━━━━━━╇━━━━━━━━━━━━━━━━━━━━━━━━━━━━━━━━━━━━━━━━━━━━━━━━━━━━━━━━━━━━━━━━━━━━━━━━━━━━━━━━━━━━━━━━━━━━┩\n",
       "│\u001b[1;36m \u001b[0m\u001b[1;36mQuestion          \u001b[0m\u001b[1;36m \u001b[0m│ how many division  Did Not Qualify for u.s. open cup in 2003                               │\n",
       "├────────────────────┼────────────────────────────────────────────────────────────────────────────────────────────┤\n",
       "│\u001b[1;36m \u001b[0m\u001b[1;36mModel Output SQL  \u001b[0m\u001b[1;36m \u001b[0m│ SELECT COUNT(*) FROM \"Table\" WHERE \"Year\" = 2003 AND \"U.S. Open Cup\" = \"Did Not Qualify\";  │\n",
       "├────────────────────┼────────────────────────────────────────────────────────────────────────────────────────────┤\n",
       "│\u001b[1;36m \u001b[0m\u001b[1;36mGold SQL          \u001b[0m\u001b[1;36m \u001b[0m│ SELECT \"Division\" FROM \"1-1046170-5\" WHERE \"U.S. Open Cup\" = 'Did Not Qualify' AND \"Year\"  │\n",
       "│\u001b[1;36m                    \u001b[0m│ = 2003.0;                                                                                  │\n",
       "├────────────────────┼────────────────────────────────────────────────────────────────────────────────────────────┤\n",
       "│\u001b[1;36m \u001b[0m\u001b[1;36mPrediction Results\u001b[0m\u001b[1;36m \u001b[0m│ [(1,)]                                                                                     │\n",
       "├────────────────────┼────────────────────────────────────────────────────────────────────────────────────────────┤\n",
       "│\u001b[1;36m \u001b[0m\u001b[1;36mGold Results      \u001b[0m\u001b[1;36m \u001b[0m│ [('2',)]                                                                                   │\n",
       "└────────────────────┴────────────────────────────────────────────────────────────────────────────────────────────┘\n"
      ]
     },
     "metadata": {},
     "output_type": "display_data"
    },
    {
     "data": {
      "text/html": [
       "<pre style=\"white-space:pre;overflow-x:auto;line-height:normal;font-family:Menlo,'DejaVu Sans Mono',consolas,'Courier New',monospace\"><span style=\"font-style: italic\">                                        </span><span style=\"color: #800000; text-decoration-color: #800000; font-style: italic\">Mismatch for Question 15866</span><span style=\"font-style: italic\">                                         </span>\n",
       "┏━━━━━━━━━━━━━━━━━━━━┳━━━━━━━━━━━━━━━━━━━━━━━━━━━━━━━━━━━━━━━━━━━━━━━━━━━━━━━━━━━━━━━━━━━━━━━━━━━━━━━━━━━━━┓\n",
       "┃<span style=\"font-weight: bold\"> Field              </span>┃<span style=\"font-weight: bold\"> Value                                                                               </span>┃\n",
       "┡━━━━━━━━━━━━━━━━━━━━╇━━━━━━━━━━━━━━━━━━━━━━━━━━━━━━━━━━━━━━━━━━━━━━━━━━━━━━━━━━━━━━━━━━━━━━━━━━━━━━━━━━━━━┩\n",
       "│<span style=\"color: #008080; text-decoration-color: #008080; font-weight: bold\"> Question           </span>│ which round is u.s. open cup Division Semifinals                                    │\n",
       "├────────────────────┼─────────────────────────────────────────────────────────────────────────────────────┤\n",
       "│<span style=\"color: #008080; text-decoration-color: #008080; font-weight: bold\"> Model Output SQL   </span>│ SELECT \"U.S. Open Cup\" FROM \"Table\" WHERE \"Division\" = \"Semifinals\";                │\n",
       "├────────────────────┼─────────────────────────────────────────────────────────────────────────────────────┤\n",
       "│<span style=\"color: #008080; text-decoration-color: #008080; font-weight: bold\"> Gold SQL           </span>│ SELECT \"U.S. Open Cup\" FROM \"1-1046170-5\" WHERE \"Playoffs\" = 'Division Semifinals'; │\n",
       "├────────────────────┼─────────────────────────────────────────────────────────────────────────────────────┤\n",
       "│<span style=\"color: #008080; text-decoration-color: #008080; font-weight: bold\"> Prediction Results </span>│ []                                                                                  │\n",
       "├────────────────────┼─────────────────────────────────────────────────────────────────────────────────────┤\n",
       "│<span style=\"color: #008080; text-decoration-color: #008080; font-weight: bold\"> Gold Results       </span>│ [('3rd Round',)]                                                                    │\n",
       "└────────────────────┴─────────────────────────────────────────────────────────────────────────────────────┘\n",
       "</pre>\n"
      ],
      "text/plain": [
       "\u001b[3m                                        \u001b[0m\u001b[3;31mMismatch for Question 15866\u001b[0m\u001b[3m                                         \u001b[0m\n",
       "┏━━━━━━━━━━━━━━━━━━━━┳━━━━━━━━━━━━━━━━━━━━━━━━━━━━━━━━━━━━━━━━━━━━━━━━━━━━━━━━━━━━━━━━━━━━━━━━━━━━━━━━━━━━━┓\n",
       "┃\u001b[1m \u001b[0m\u001b[1mField             \u001b[0m\u001b[1m \u001b[0m┃\u001b[1m \u001b[0m\u001b[1mValue                                                                              \u001b[0m\u001b[1m \u001b[0m┃\n",
       "┡━━━━━━━━━━━━━━━━━━━━╇━━━━━━━━━━━━━━━━━━━━━━━━━━━━━━━━━━━━━━━━━━━━━━━━━━━━━━━━━━━━━━━━━━━━━━━━━━━━━━━━━━━━━┩\n",
       "│\u001b[1;36m \u001b[0m\u001b[1;36mQuestion          \u001b[0m\u001b[1;36m \u001b[0m│ which round is u.s. open cup Division Semifinals                                    │\n",
       "├────────────────────┼─────────────────────────────────────────────────────────────────────────────────────┤\n",
       "│\u001b[1;36m \u001b[0m\u001b[1;36mModel Output SQL  \u001b[0m\u001b[1;36m \u001b[0m│ SELECT \"U.S. Open Cup\" FROM \"Table\" WHERE \"Division\" = \"Semifinals\";                │\n",
       "├────────────────────┼─────────────────────────────────────────────────────────────────────────────────────┤\n",
       "│\u001b[1;36m \u001b[0m\u001b[1;36mGold SQL          \u001b[0m\u001b[1;36m \u001b[0m│ SELECT \"U.S. Open Cup\" FROM \"1-1046170-5\" WHERE \"Playoffs\" = 'Division Semifinals'; │\n",
       "├────────────────────┼─────────────────────────────────────────────────────────────────────────────────────┤\n",
       "│\u001b[1;36m \u001b[0m\u001b[1;36mPrediction Results\u001b[0m\u001b[1;36m \u001b[0m│ []                                                                                  │\n",
       "├────────────────────┼─────────────────────────────────────────────────────────────────────────────────────┤\n",
       "│\u001b[1;36m \u001b[0m\u001b[1;36mGold Results      \u001b[0m\u001b[1;36m \u001b[0m│ [('3rd Round',)]                                                                    │\n",
       "└────────────────────┴─────────────────────────────────────────────────────────────────────────────────────┘\n"
      ]
     },
     "metadata": {},
     "output_type": "display_data"
    },
    {
     "data": {
      "text/html": [
       "<pre style=\"white-space:pre;overflow-x:auto;line-height:normal;font-family:Menlo,'DejaVu Sans Mono',consolas,'Courier New',monospace\"></pre>\n"
      ],
      "text/plain": []
     },
     "metadata": {},
     "output_type": "display_data"
    },
    {
     "data": {
      "text/html": [
       "<pre style=\"white-space:pre;overflow-x:auto;line-height:normal;font-family:Menlo,'DejaVu Sans Mono',consolas,'Courier New',monospace\"><span style=\"font-style: italic\">        </span><span style=\"color: #008000; text-decoration-color: #008000; font-style: italic\">Evaluation Summary</span><span style=\"font-style: italic\">         </span>\n",
       "┏━━━━━━━━━━━━━━━━━━━┳━━━━━━━━━━━━━┓\n",
       "┃<span style=\"font-weight: bold\"> Metric            </span>┃<span style=\"font-weight: bold\"> Value       </span>┃\n",
       "┡━━━━━━━━━━━━━━━━━━━╇━━━━━━━━━━━━━┩\n",
       "│<span style=\"color: #008000; text-decoration-color: #008000; font-weight: bold\"> Total Samples     </span>│<span style=\"color: #808000; text-decoration-color: #808000; font-weight: bold\"> 100         </span>│\n",
       "├───────────────────┼─────────────┤\n",
       "│<span style=\"color: #008000; text-decoration-color: #008000; font-weight: bold\"> Correct Results   </span>│<span style=\"color: #808000; text-decoration-color: #808000; font-weight: bold\"> 80 (80.00%) </span>│\n",
       "├───────────────────┼─────────────┤\n",
       "│<span style=\"color: #008000; text-decoration-color: #008000; font-weight: bold\"> Prediction None   </span>│<span style=\"color: #808000; text-decoration-color: #808000; font-weight: bold\"> 2/100       </span>│\n",
       "├───────────────────┼─────────────┤\n",
       "│<span style=\"color: #008000; text-decoration-color: #008000; font-weight: bold\"> Ground Truth None </span>│<span style=\"color: #808000; text-decoration-color: #808000; font-weight: bold\"> 0/100       </span>│\n",
       "├───────────────────┼─────────────┤\n",
       "│<span style=\"color: #008000; text-decoration-color: #008000; font-weight: bold\"> SQL Errors        </span>│<span style=\"color: #808000; text-decoration-color: #808000; font-weight: bold\"> 0           </span>│\n",
       "└───────────────────┴─────────────┘\n",
       "</pre>\n"
      ],
      "text/plain": [
       "\u001b[3m        \u001b[0m\u001b[3;32mEvaluation Summary\u001b[0m\u001b[3m         \u001b[0m\n",
       "┏━━━━━━━━━━━━━━━━━━━┳━━━━━━━━━━━━━┓\n",
       "┃\u001b[1m \u001b[0m\u001b[1mMetric           \u001b[0m\u001b[1m \u001b[0m┃\u001b[1m \u001b[0m\u001b[1mValue      \u001b[0m\u001b[1m \u001b[0m┃\n",
       "┡━━━━━━━━━━━━━━━━━━━╇━━━━━━━━━━━━━┩\n",
       "│\u001b[1;32m \u001b[0m\u001b[1;32mTotal Samples    \u001b[0m\u001b[1;32m \u001b[0m│\u001b[1;33m \u001b[0m\u001b[1;33m100        \u001b[0m\u001b[1;33m \u001b[0m│\n",
       "├───────────────────┼─────────────┤\n",
       "│\u001b[1;32m \u001b[0m\u001b[1;32mCorrect Results  \u001b[0m\u001b[1;32m \u001b[0m│\u001b[1;33m \u001b[0m\u001b[1;33m80 (80.00%)\u001b[0m\u001b[1;33m \u001b[0m│\n",
       "├───────────────────┼─────────────┤\n",
       "│\u001b[1;32m \u001b[0m\u001b[1;32mPrediction None  \u001b[0m\u001b[1;32m \u001b[0m│\u001b[1;33m \u001b[0m\u001b[1;33m2/100      \u001b[0m\u001b[1;33m \u001b[0m│\n",
       "├───────────────────┼─────────────┤\n",
       "│\u001b[1;32m \u001b[0m\u001b[1;32mGround Truth None\u001b[0m\u001b[1;32m \u001b[0m│\u001b[1;33m \u001b[0m\u001b[1;33m0/100      \u001b[0m\u001b[1;33m \u001b[0m│\n",
       "├───────────────────┼─────────────┤\n",
       "│\u001b[1;32m \u001b[0m\u001b[1;32mSQL Errors       \u001b[0m\u001b[1;32m \u001b[0m│\u001b[1;33m \u001b[0m\u001b[1;33m0          \u001b[0m\u001b[1;33m \u001b[0m│\n",
       "└───────────────────┴─────────────┘\n"
      ]
     },
     "metadata": {},
     "output_type": "display_data"
    }
   ],
   "source": [
    "evaluator = LLMSQLEvaluator()\n",
    "report = evaluator.evaluate(\"test_output.jsonl\")"
   ]
  }
 ],
 "metadata": {
  "kernelspec": {
   "display_name": ".venv",
   "language": "python",
   "name": "python3"
  },
  "language_info": {
   "codemirror_mode": {
    "name": "ipython",
    "version": 3
   },
   "file_extension": ".py",
   "mimetype": "text/x-python",
   "name": "python",
   "nbconvert_exporter": "python",
   "pygments_lexer": "ipython3",
   "version": "3.11.13"
  }
 },
 "nbformat": 4,
 "nbformat_minor": 5
}
